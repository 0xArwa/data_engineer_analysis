{
  "cells": [
    {
      "cell_type": "markdown",
      "metadata": {
        "id": "3VH4-kt5PbpU"
      },
      "source": [
        "# Insights from the Data Engineer 2021 Survey"
      ]
    },
    {
      "cell_type": "markdown",
      "metadata": {
        "id": "Vpk7emO7PnC1"
      },
      "source": [
        "Welcome! <br>\n",
        "This notebook contains all codes, figures, statistics related to the data analysis."
      ]
    },
    {
      "cell_type": "markdown",
      "source": [
        "# Table of Content"
      ],
      "metadata": {
        "id": "JVfhpfKusYRO"
      }
    },
    {
      "cell_type": "markdown",
      "source": [
        "- Business Understanding\n",
        "- Data Understanding\n",
        "- Data preparation \n",
        "- Question I\n",
        "- Question II\n",
        "- Question III\n",
        "- Results "
      ],
      "metadata": {
        "id": "tWNYwP80sc8J"
      }
    },
    {
      "cell_type": "markdown",
      "source": [
        "# Business Understanding"
      ],
      "metadata": {
        "id": "2g1Mc8VMtPb-"
      }
    },
    {
      "cell_type": "markdown",
      "source": [
        "I'm interested in understanding reasons behind burnout for a particular group (Data Engineers), and in order to do so, we will go over many steps to answer 3 main questions that would clarify why such group suffers from burnout and work stress. <br>\n",
        "The 3 questions are: \n",
        "-  What are the tasks that make them feel burned out?\n",
        "-  Do bigger companies make them more anxious?\n",
        "-  What other factors influence burning-out?\n",
        "\n",
        "To answer these questions we need accurate and real data that reflects this group opinions and problems.\n",
        "We will be using the 2021 Data Engineer Survey to aquire answers for the raised questions but first we need to fully understand the data that we have.\n",
        "\n"
      ],
      "metadata": {
        "id": "4qwHMefCtUW3"
      }
    },
    {
      "cell_type": "markdown",
      "source": [
        "# Data Understanding"
      ],
      "metadata": {
        "id": "MetI6p_0udC0"
      }
    },
    {
      "cell_type": "markdown",
      "source": [
        "There are two datasets, one for the survey questions and the other contains the full results. <br> Now, Let's take a look at the datasets"
      ],
      "metadata": {
        "id": "WJivywh7vASR"
      }
    },
    {
      "cell_type": "code",
      "execution_count": null,
      "metadata": {
        "id": "r1Z6Rcr5-zk6"
      },
      "outputs": [],
      "source": [
        "#importing all the libraries that we will need later on\n",
        "import numpy as np\n",
        "import pandas as pd\n",
        "import matplotlib.pyplot as plt\n",
        "import seaborn as sns\n",
        "%matplotlib inline"
      ]
    },
    {
      "cell_type": "code",
      "execution_count": null,
      "metadata": {
        "colab": {
          "base_uri": "https://localhost:8080/",
          "height": 803
        },
        "id": "nvibtlno_mef",
        "outputId": "feb15d39-ab63-4c8b-d3b2-77c445ec8776"
      },
      "outputs": [
        {
          "data": {
            "text/html": [
              "<div>\n",
              "<style scoped>\n",
              "    .dataframe tbody tr th:only-of-type {\n",
              "        vertical-align: middle;\n",
              "    }\n",
              "\n",
              "    .dataframe tbody tr th {\n",
              "        vertical-align: top;\n",
              "    }\n",
              "\n",
              "    .dataframe thead th {\n",
              "        text-align: right;\n",
              "    }\n",
              "</style>\n",
              "<table border=\"1\" class=\"dataframe\">\n",
              "  <thead>\n",
              "    <tr style=\"text-align: right;\">\n",
              "      <th></th>\n",
              "      <th>GENDER</th>\n",
              "      <th>AGE</th>\n",
              "      <th>EMPLOYMENT</th>\n",
              "      <th>STATE</th>\n",
              "      <th>REGION</th>\n",
              "      <th>EDUCATION</th>\n",
              "      <th>QA_M1</th>\n",
              "      <th>QA_M2</th>\n",
              "      <th>QA_M3</th>\n",
              "      <th>QA_M4</th>\n",
              "      <th>...</th>\n",
              "      <th>Q14_M3</th>\n",
              "      <th>Q14_M4</th>\n",
              "      <th>Q14_M5</th>\n",
              "      <th>Q15</th>\n",
              "      <th>QE</th>\n",
              "      <th>QF</th>\n",
              "      <th>QG</th>\n",
              "      <th>QH</th>\n",
              "      <th>QI</th>\n",
              "      <th>QJ</th>\n",
              "    </tr>\n",
              "  </thead>\n",
              "  <tbody>\n",
              "    <tr>\n",
              "      <th>0</th>\n",
              "      <td>Male</td>\n",
              "      <td>39</td>\n",
              "      <td>\\tWork full-time</td>\n",
              "      <td>Wisconsin</td>\n",
              "      <td>Midwest</td>\n",
              "      <td>\\tGraduate or post-graduate work</td>\n",
              "      <td>Maintain the distributed systems that execute ...</td>\n",
              "      <td>Develop, maintain, and optimize data systems t...</td>\n",
              "      <td>Ensure that the data architecture will scale a...</td>\n",
              "      <td>Write and test code</td>\n",
              "      <td>...</td>\n",
              "      <td>NaN</td>\n",
              "      <td>NaN</td>\n",
              "      <td>NaN</td>\n",
              "      <td>Agree somewhat</td>\n",
              "      <td>10</td>\n",
              "      <td>10</td>\n",
              "      <td>11</td>\n",
              "      <td>1500</td>\n",
              "      <td>$50 Million to under $100 Million</td>\n",
              "      <td>Information technology (IT) / software</td>\n",
              "    </tr>\n",
              "    <tr>\n",
              "      <th>1</th>\n",
              "      <td>Male</td>\n",
              "      <td>39</td>\n",
              "      <td>\\tWork full-time</td>\n",
              "      <td>Florida</td>\n",
              "      <td>South</td>\n",
              "      <td>\\tBachelor’s degree</td>\n",
              "      <td>Develop, maintain, and optimize data systems t...</td>\n",
              "      <td>Maintain the distributed systems that execute ...</td>\n",
              "      <td>Write and test code</td>\n",
              "      <td>Manage continuous integration and continuous d...</td>\n",
              "      <td>...</td>\n",
              "      <td>Lack of knowledge around what DataOps is</td>\n",
              "      <td>NaN</td>\n",
              "      <td>NaN</td>\n",
              "      <td>Agree somewhat</td>\n",
              "      <td>5</td>\n",
              "      <td>10</td>\n",
              "      <td>50</td>\n",
              "      <td>2000</td>\n",
              "      <td>$10 Million to under $25 Million</td>\n",
              "      <td>Banking</td>\n",
              "    </tr>\n",
              "    <tr>\n",
              "      <th>2</th>\n",
              "      <td>Male</td>\n",
              "      <td>34</td>\n",
              "      <td>\\tWork full-time</td>\n",
              "      <td>Florida</td>\n",
              "      <td>South</td>\n",
              "      <td>\\tGraduate or post-graduate work</td>\n",
              "      <td>Create data pipelines</td>\n",
              "      <td>Develop, maintain, and optimize data systems t...</td>\n",
              "      <td>Write tests to ensure that bad data is detecte...</td>\n",
              "      <td>Maintain the distributed systems that execute ...</td>\n",
              "      <td>...</td>\n",
              "      <td>NaN</td>\n",
              "      <td>NaN</td>\n",
              "      <td>NaN</td>\n",
              "      <td>Agree strongly</td>\n",
              "      <td>10</td>\n",
              "      <td>15</td>\n",
              "      <td>20</td>\n",
              "      <td>20</td>\n",
              "      <td>$1 Billion or more</td>\n",
              "      <td>Information technology (IT) / software</td>\n",
              "    </tr>\n",
              "    <tr>\n",
              "      <th>3</th>\n",
              "      <td>Male</td>\n",
              "      <td>38</td>\n",
              "      <td>\\tWork full-time</td>\n",
              "      <td>Wisconsin</td>\n",
              "      <td>Midwest</td>\n",
              "      <td>\\tGraduate or post-graduate work</td>\n",
              "      <td>Maintain the distributed systems that execute ...</td>\n",
              "      <td>Maintain data in ready-to-use formats</td>\n",
              "      <td>Manage continuous integration and continuous d...</td>\n",
              "      <td>NaN</td>\n",
              "      <td>...</td>\n",
              "      <td>NaN</td>\n",
              "      <td>NaN</td>\n",
              "      <td>NaN</td>\n",
              "      <td>Agree strongly</td>\n",
              "      <td>18</td>\n",
              "      <td>18</td>\n",
              "      <td>45</td>\n",
              "      <td>250</td>\n",
              "      <td>$100 Million to under $250 Million</td>\n",
              "      <td>Information technology (IT) / software</td>\n",
              "    </tr>\n",
              "    <tr>\n",
              "      <th>4</th>\n",
              "      <td>Male</td>\n",
              "      <td>39</td>\n",
              "      <td>\\tWork full-time</td>\n",
              "      <td>Georgia</td>\n",
              "      <td>South</td>\n",
              "      <td>\\tGraduate or post-graduate work</td>\n",
              "      <td>Manage continuous integration and continuous d...</td>\n",
              "      <td>Maintain the distributed systems that execute ...</td>\n",
              "      <td>Maintain data in ready-to-use formats</td>\n",
              "      <td>Develop, maintain, and optimize data systems t...</td>\n",
              "      <td>...</td>\n",
              "      <td>NaN</td>\n",
              "      <td>NaN</td>\n",
              "      <td>NaN</td>\n",
              "      <td>Agree somewhat</td>\n",
              "      <td>6</td>\n",
              "      <td>7</td>\n",
              "      <td>10</td>\n",
              "      <td>999</td>\n",
              "      <td>$250 Million to under $500 Million</td>\n",
              "      <td>Banking</td>\n",
              "    </tr>\n",
              "  </tbody>\n",
              "</table>\n",
              "<p>5 rows × 46 columns</p>\n",
              "</div>"
            ],
            "text/plain": [
              "  GENDER  AGE         EMPLOYMENT      STATE   REGION  \\\n",
              "0   Male   39  \\tWork full-time   Wisconsin  Midwest   \n",
              "1   Male   39  \\tWork full-time     Florida    South   \n",
              "2   Male   34  \\tWork full-time     Florida    South   \n",
              "3   Male   38  \\tWork full-time   Wisconsin  Midwest   \n",
              "4   Male   39  \\tWork full-time     Georgia    South   \n",
              "\n",
              "                          EDUCATION  \\\n",
              "0  \\tGraduate or post-graduate work   \n",
              "1               \\tBachelor’s degree   \n",
              "2  \\tGraduate or post-graduate work   \n",
              "3  \\tGraduate or post-graduate work   \n",
              "4  \\tGraduate or post-graduate work   \n",
              "\n",
              "                                               QA_M1  \\\n",
              "0  Maintain the distributed systems that execute ...   \n",
              "1  Develop, maintain, and optimize data systems t...   \n",
              "2                              Create data pipelines   \n",
              "3  Maintain the distributed systems that execute ...   \n",
              "4  Manage continuous integration and continuous d...   \n",
              "\n",
              "                                               QA_M2  \\\n",
              "0  Develop, maintain, and optimize data systems t...   \n",
              "1  Maintain the distributed systems that execute ...   \n",
              "2  Develop, maintain, and optimize data systems t...   \n",
              "3              Maintain data in ready-to-use formats   \n",
              "4  Maintain the distributed systems that execute ...   \n",
              "\n",
              "                                               QA_M3  \\\n",
              "0  Ensure that the data architecture will scale a...   \n",
              "1                                Write and test code   \n",
              "2  Write tests to ensure that bad data is detecte...   \n",
              "3  Manage continuous integration and continuous d...   \n",
              "4              Maintain data in ready-to-use formats   \n",
              "\n",
              "                                               QA_M4  ...  \\\n",
              "0                                Write and test code  ...   \n",
              "1  Manage continuous integration and continuous d...  ...   \n",
              "2  Maintain the distributed systems that execute ...  ...   \n",
              "3                                                NaN  ...   \n",
              "4  Develop, maintain, and optimize data systems t...  ...   \n",
              "\n",
              "                                     Q14_M3 Q14_M4 Q14_M5             Q15  QE  \\\n",
              "0                                       NaN    NaN    NaN  Agree somewhat  10   \n",
              "1  Lack of knowledge around what DataOps is    NaN    NaN  Agree somewhat   5   \n",
              "2                                       NaN    NaN    NaN  Agree strongly  10   \n",
              "3                                       NaN    NaN    NaN  Agree strongly  18   \n",
              "4                                       NaN    NaN    NaN  Agree somewhat   6   \n",
              "\n",
              "   QF  QG    QH                                  QI  \\\n",
              "0  10  11  1500   $50 Million to under $100 Million   \n",
              "1  10  50  2000    $10 Million to under $25 Million   \n",
              "2  15  20    20                  $1 Billion or more   \n",
              "3  18  45   250  $100 Million to under $250 Million   \n",
              "4   7  10   999  $250 Million to under $500 Million   \n",
              "\n",
              "                                       QJ  \n",
              "0  Information technology (IT) / software  \n",
              "1                                 Banking  \n",
              "2  Information technology (IT) / software  \n",
              "3  Information technology (IT) / software  \n",
              "4                                 Banking  \n",
              "\n",
              "[5 rows x 46 columns]"
            ]
          },
          "execution_count": 2,
          "metadata": {},
          "output_type": "execute_result"
        }
      ],
      "source": [
        "df = pd.read_csv('2021-data-engineer-survey-results.csv')\n",
        "schema = pd.read_csv('2021-data-engineer-survey-questions.csv', encoding=\"cp1252\")\n",
        "df.head()"
      ]
    },
    {
      "cell_type": "code",
      "execution_count": null,
      "metadata": {
        "colab": {
          "base_uri": "https://localhost:8080/"
        },
        "id": "hSLZyY8mAev9",
        "outputId": "951264f3-0b20-4c83-84bd-328fb0e5f6a6"
      },
      "outputs": [
        {
          "data": {
            "text/plain": [
              "Index(['GENDER', 'AGE', 'EMPLOYMENT', 'STATE', 'REGION', 'EDUCATION', 'QA_M1',\n",
              "       'QA_M2', 'QA_M3', 'QA_M4', 'QA_M5', 'QA_M6', 'QA_M7', 'QA_M8', 'QB',\n",
              "       'QC', 'QD', 'Q1', 'Q2', 'Q3', 'Q4', 'Q5_M1', 'Q5_M2', 'Q5_M3', 'Q5_M4',\n",
              "       'Q5_M5', 'Q6', 'Q7', 'Q8', 'Q9', 'Q10', 'Q11', 'Q12', 'Q13', 'Q14_M1',\n",
              "       'Q14_M2', 'Q14_M3', 'Q14_M4', 'Q14_M5', 'Q15', 'QE', 'QF', 'QG', 'QH',\n",
              "       'QI', 'QJ'],\n",
              "      dtype='object')"
            ]
          },
          "execution_count": 3,
          "metadata": {},
          "output_type": "execute_result"
        }
      ],
      "source": [
        "df.columns"
      ]
    },
    {
      "cell_type": "code",
      "execution_count": null,
      "metadata": {
        "colab": {
          "base_uri": "https://localhost:8080/"
        },
        "id": "z4Gbc-fK7mjU",
        "outputId": "3fd430f1-6df4-4d15-c7f2-08d531923d28"
      },
      "outputs": [
        {
          "name": "stdout",
          "output_type": "stream",
          "text": [
            "Number of rows: 600\n",
            "Number of columns: 46\n"
          ]
        }
      ],
      "source": [
        "print('Number of rows:', df.shape[0])\n",
        "print('Number of columns:', df.shape[1])"
      ]
    },
    {
      "cell_type": "markdown",
      "source": [
        "The dataset has 600 responses with 46 feature"
      ],
      "metadata": {
        "id": "Hp5wzHN8vusF"
      }
    },
    {
      "cell_type": "code",
      "execution_count": null,
      "metadata": {
        "colab": {
          "base_uri": "https://localhost:8080/"
        },
        "id": "5lIxhtXDQRi3",
        "outputId": "22d02279-9d56-4e33-ee04-39571d2487b6"
      },
      "outputs": [
        {
          "name": "stdout",
          "output_type": "stream",
          "text": [
            "<class 'pandas.core.frame.DataFrame'>\n",
            "RangeIndex: 600 entries, 0 to 599\n",
            "Data columns (total 46 columns):\n",
            " #   Column      Non-Null Count  Dtype \n",
            "---  ------      --------------  ----- \n",
            " 0   GENDER      600 non-null    object\n",
            " 1   AGE         600 non-null    int64 \n",
            " 2   EMPLOYMENT  600 non-null    object\n",
            " 3   STATE       600 non-null    object\n",
            " 4   REGION      600 non-null    object\n",
            " 5   EDUCATION   600 non-null    object\n",
            " 6   QA_M1       600 non-null    object\n",
            " 7   QA_M2       600 non-null    object\n",
            " 8   QA_M3       600 non-null    object\n",
            " 9   QA_M4       549 non-null    object\n",
            " 10  QA_M5       400 non-null    object\n",
            " 11  QA_M6       168 non-null    object\n",
            " 12  QA_M7       34 non-null     object\n",
            " 13  QA_M8       7 non-null      object\n",
            " 14  QB          600 non-null    object\n",
            " 15  QC          600 non-null    object\n",
            " 16  QD          600 non-null    object\n",
            " 17  Q1          600 non-null    object\n",
            " 18  Q2          600 non-null    object\n",
            " 19  Q3          600 non-null    int64 \n",
            " 20  Q4          600 non-null    int64 \n",
            " 21  Q5_M1       600 non-null    object\n",
            " 22  Q5_M2       571 non-null    object\n",
            " 23  Q5_M3       454 non-null    object\n",
            " 24  Q5_M4       96 non-null     object\n",
            " 25  Q5_M5       9 non-null      object\n",
            " 26  Q6          600 non-null    object\n",
            " 27  Q7          600 non-null    object\n",
            " 28  Q8          600 non-null    object\n",
            " 29  Q9          600 non-null    object\n",
            " 30  Q10         600 non-null    object\n",
            " 31  Q11         600 non-null    object\n",
            " 32  Q12         600 non-null    object\n",
            " 33  Q13         600 non-null    object\n",
            " 34  Q14_M1      361 non-null    object\n",
            " 35  Q14_M2      353 non-null    object\n",
            " 36  Q14_M3      318 non-null    object\n",
            " 37  Q14_M4      111 non-null    object\n",
            " 38  Q14_M5      18 non-null     object\n",
            " 39  Q15         600 non-null    object\n",
            " 40  QE          600 non-null    object\n",
            " 41  QF          600 non-null    object\n",
            " 42  QG          600 non-null    object\n",
            " 43  QH          600 non-null    int64 \n",
            " 44  QI          600 non-null    object\n",
            " 45  QJ          600 non-null    object\n",
            "dtypes: int64(4), object(42)\n",
            "memory usage: 215.8+ KB\n"
          ]
        }
      ],
      "source": [
        "df.info()"
      ]
    },
    {
      "cell_type": "markdown",
      "source": [
        "The dataset has both numerical and categorical data. "
      ],
      "metadata": {
        "id": "xNFcWVKov54S"
      }
    },
    {
      "cell_type": "markdown",
      "source": [
        "Next, let's explore the questions dataset"
      ],
      "metadata": {
        "id": "ycLXM93HwHcG"
      }
    },
    {
      "cell_type": "code",
      "execution_count": null,
      "metadata": {
        "colab": {
          "base_uri": "https://localhost:8080/"
        },
        "id": "jxgq2fdj88dm",
        "outputId": "ab93dc83-572f-4a06-b428-61b75c5c0958"
      },
      "outputs": [
        {
          "data": {
            "text/plain": [
              "0                          What is your gender please?\n",
              "1                                    What is your age?\n",
              "2                     What is your employment status? \n",
              "3                 What state do you work in currently?\n",
              "4    What is the highest level of formal education ...\n",
              "Name: Question Text, dtype: object"
            ]
          },
          "execution_count": 6,
          "metadata": {},
          "output_type": "execute_result"
        }
      ],
      "source": [
        "schema['Question Text'][:5]"
      ]
    },
    {
      "cell_type": "markdown",
      "source": [
        "To make it easier to retrive the questions, I'm going to create a function that returns the original question."
      ],
      "metadata": {
        "id": "C7UD2XGNwTFp"
      }
    },
    {
      "cell_type": "code",
      "execution_count": null,
      "metadata": {
        "colab": {
          "base_uri": "https://localhost:8080/",
          "height": 52
        },
        "id": "w3g9V9gv8Me9",
        "outputId": "9f2f1d63-59aa-42b6-cec8-c1172db8e34e"
      },
      "outputs": [
        {
          "data": {
            "text/plain": [
              "'What percent of the time do you receive requests in your job that are simply not possible to do in the time requested? Please give your answer as a percent. Your best guess is fine.'"
            ]
          },
          "execution_count": 7,
          "metadata": {},
          "output_type": "execute_result"
        }
      ],
      "source": [
        "#using this helpful function that we applied in the excercise \n",
        "def get_question(col, schema=schema):\n",
        "  \"\"\"\n",
        "    This function returns the full question of the original dataset\n",
        "  \n",
        "    Parameters:\n",
        "    col (String): the column name in String format\n",
        "    \n",
        "    Returns:\n",
        "    String: full question in string format\n",
        "  \"\"\"\n",
        "  quest = list(schema[schema['Metric Label'] == col]['Question Text'])[0]\n",
        "    \n",
        "  return quest\n",
        "\n",
        "    \n",
        "\n",
        "get_question('Q3')\n",
        "#Note: this will work for all columns except the questions that are represented in multiple-column scheme"
      ]
    },
    {
      "cell_type": "markdown",
      "source": [
        "# Data preparation"
      ],
      "metadata": {
        "id": "EdYFIOin4nTW"
      }
    },
    {
      "cell_type": "markdown",
      "source": [
        "To answer each question, the data will be prepared and cleaned based on the goal for each part."
      ],
      "metadata": {
        "id": "hgXtN84O45N4"
      }
    },
    {
      "cell_type": "markdown",
      "metadata": {
        "id": "Pu9MH5yYsFZz"
      },
      "source": [
        "## Q1: What are the tasks that makes them feel burnout? "
      ]
    },
    {
      "cell_type": "markdown",
      "metadata": {
        "id": "Q7efeAvZsFZ1"
      },
      "source": [
        "Part I: Examining thier daily tasks"
      ]
    },
    {
      "cell_type": "code",
      "execution_count": null,
      "metadata": {
        "colab": {
          "base_uri": "https://localhost:8080/"
        },
        "id": "dJy23oN0yNyQ",
        "outputId": "3e036f12-2cef-4518-cad9-32f04dada21e"
      },
      "outputs": [
        {
          "data": {
            "text/plain": [
              "Develop, maintain, and optimize data systems to make data available for analysis                 92\n",
              "Maintain data in ready-to-use formats                                                            77\n",
              "Ensure that the data architecture will scale appropriately                                       72\n",
              "Manage continuous integration and continuous delivery/deployment (CI/CD) of new data products    71\n",
              "Maintain the distributed systems that execute data pipelines                                     69\n",
              "Write tests to ensure that bad data is detected and acted upon in production                     64\n",
              "Write and test code                                                                              61\n",
              "Create data pipelines                                                                            51\n",
              "Put analytics into production                                                                    43\n",
              "Name: QA_M1, dtype: int64"
            ]
          },
          "execution_count": 8,
          "metadata": {},
          "output_type": "execute_result"
        }
      ],
      "source": [
        "df['QA_M1'].value_counts() "
      ]
    },
    {
      "cell_type": "code",
      "execution_count": null,
      "metadata": {
        "colab": {
          "base_uri": "https://localhost:8080/"
        },
        "id": "tv6_A2rJoibv",
        "outputId": "2e9d188f-09e2-4dad-a402-c9744ac8bc03"
      },
      "outputs": [
        {
          "data": {
            "text/plain": [
              "{'Develop, maintain, and optimize data systems to make data available for analysis': 92,\n",
              " 'Maintain data in ready-to-use formats': 77,\n",
              " 'Ensure that the data architecture will scale appropriately': 72,\n",
              " 'Manage continuous integration and continuous delivery/deployment (CI/CD) of new data products': 71,\n",
              " 'Maintain the distributed systems that execute data pipelines': 69,\n",
              " 'Write tests to ensure that bad data is detected and acted upon in production': 64,\n",
              " 'Write and test code': 61,\n",
              " 'Create data pipelines': 51,\n",
              " 'Put analytics into production': 43}"
            ]
          },
          "execution_count": 9,
          "metadata": {},
          "output_type": "execute_result"
        }
      ],
      "source": [
        "counts = dict(df['QA_M1'].value_counts())\n",
        "counts"
      ]
    },
    {
      "cell_type": "code",
      "execution_count": null,
      "metadata": {
        "id": "o9f9qkw8pwJ9"
      },
      "outputs": [],
      "source": [
        "def add_dict(dict2 , counts=counts):\n",
        "  \"\"\"\n",
        "    This function returns an updated dictionary of values count\n",
        "  \n",
        "    Parameters:\n",
        "    dict2 (dict): dictionary that has the count of values\n",
        "    \n",
        "    Returns:\n",
        "    dict: new updated dictionary \n",
        "  \"\"\"\n",
        "  updated_counts = 0\n",
        "  for i in counts:\n",
        "    if i in dict2:\n",
        "        counts[i] = counts[i] + dict2[i]\n",
        "    else:\n",
        "        pass\n",
        "  updated_counts = counts   \n",
        "  return updated_counts"
      ]
    },
    {
      "cell_type": "code",
      "execution_count": null,
      "metadata": {
        "colab": {
          "base_uri": "https://localhost:8080/"
        },
        "id": "ATHsGfyFqllV",
        "outputId": "8223996f-621e-413f-961c-9ba701540549"
      },
      "outputs": [
        {
          "data": {
            "text/plain": [
              "{'Develop, maintain, and optimize data systems to make data available for analysis': 397,\n",
              " 'Maintain data in ready-to-use formats': 350,\n",
              " 'Ensure that the data architecture will scale appropriately': 317,\n",
              " 'Manage continuous integration and continuous delivery/deployment (CI/CD) of new data products': 361,\n",
              " 'Maintain the distributed systems that execute data pipelines': 348,\n",
              " 'Write tests to ensure that bad data is detected and acted upon in production': 346,\n",
              " 'Write and test code': 315,\n",
              " 'Create data pipelines': 263,\n",
              " 'Put analytics into production': 261}"
            ]
          },
          "execution_count": 11,
          "metadata": {},
          "output_type": "execute_result"
        }
      ],
      "source": [
        "questions = ['QA_M2','QA_M3', 'QA_M4','QA_M5','QA_M6','QA_M7','QA_M8']\n",
        "for i in questions:\n",
        " total_count = add_dict(dict(df[i].value_counts()))\n",
        "\n",
        "total_count"
      ]
    },
    {
      "cell_type": "code",
      "execution_count": null,
      "metadata": {
        "id": "-vDBPPF_HtMI"
      },
      "outputs": [],
      "source": [
        "result = pd.Series(total_count)"
      ]
    },
    {
      "cell_type": "code",
      "execution_count": null,
      "metadata": {
        "id": "6VZCwX86sFaC"
      },
      "outputs": [],
      "source": [
        "result = result.sort_values(ascending= False)"
      ]
    },
    {
      "cell_type": "code",
      "execution_count": null,
      "metadata": {
        "id": "lm9QDy4YsFaF"
      },
      "outputs": [],
      "source": [
        "result.rename(index={'Develop, maintain, and optimize data systems to make data available for analysis'\n",
        "                     :'Develop, maintain, and optimize data systems',\n",
        "                     'Manage continuous integration and continuous delivery/deployment (CI/CD) of new data products'\n",
        "                     :'Continuous delivery/deployment (CI/CD) of new data products',\n",
        "                     'Write tests to ensure that bad data is detected and acted upon in production'\n",
        "                    :'Write tests to detect and handle bad data before production'}, inplace=True)"
      ]
    },
    {
      "cell_type": "code",
      "execution_count": null,
      "metadata": {
        "id": "Az8A6TlVsFaG",
        "outputId": "7266f31d-f318-46ae-bbe8-661dd2539b23"
      },
      "outputs": [
        {
          "data": {
            "text/plain": [
              "'Develop, maintain, and optimize data systems'"
            ]
          },
          "execution_count": 15,
          "metadata": {},
          "output_type": "execute_result"
        }
      ],
      "source": [
        "result.index[0] "
      ]
    },
    {
      "cell_type": "code",
      "execution_count": null,
      "metadata": {
        "colab": {
          "base_uri": "https://localhost:8080/",
          "height": 485
        },
        "id": "qFL3i-7OAOl6",
        "outputId": "0a5092fd-57a2-494a-fa37-96b9f941de03"
      },
      "outputs": [
        {
          "data": {
            "image/png": "[encoded data removed]",
            "text/plain": [
              "<Figure size 648x360 with 1 Axes>"
            ]
          },
          "metadata": {
            "needs_background": "light"
          },
          "output_type": "display_data"
        }
      ],
      "source": [
        "plt.figure(figsize = (9,5))\n",
        "\n",
        "\n",
        "count = sns.barplot(x = result.values / df.shape[0]  , y = result.index, \n",
        "                    alpha = 0.8, saturation = 1  , edgecolor = 'k',\n",
        "                    linewidth = 2, palette = 'viridis')\n",
        "#count.set_yticklabels('')\n",
        "    \n",
        "#plt.legend(title='Tasks', loc='upper left', labels=result.index)\n",
        "#sns.move_legend(count, \"upper left\", bbox_to_anchor=(1,1))\n",
        "sns.set(font_scale=1.5)\n",
        "plt.xticks(ticks=[0.1,0.2,0.3,0.4,0.5,0.6,0.7])\n",
        "plt.title('Data Engineer Daily Tasks', fontsize = 18, fontweight = 'light', loc = 'center')\n",
        "plt.savefig('daily_tasks.png', dpi=1200, format='png', bbox_inches='tight')\n",
        "plt.show()"
      ]
    },
    {
      "cell_type": "code",
      "execution_count": null,
      "metadata": {
        "id": "UxDEujLFsFaK"
      },
      "outputs": [],
      "source": [
        "cols =  ['QA_M2','QA_M3', 'QA_M4','QA_M5','QA_M6','QA_M7','QA_M8']\n",
        "for i in cols:\n",
        "    df2 = df2.join(df[i],lsuffix = '_left', rsuffix = '_right')"
      ]
    },
    {
      "cell_type": "code",
      "execution_count": null,
      "metadata": {
        "colab": {
          "base_uri": "https://localhost:8080/"
        },
        "id": "dfizNTSQKkAX",
        "outputId": "75092810-68fc-4340-868c-7887cd9de612"
      },
      "outputs": [
        {
          "data": {
            "text/plain": [
              "{'Focusing too much time on finding and fixing errors': 106,\n",
              " 'Constantly playing catch up with stakeholder requests': 104,\n",
              " 'Lack of feedback on the products delivered': 104,\n",
              " 'Focusing too much on maintaining data pipelines and/or manual processes': 102,\n",
              " 'Fast pace of requests from stakeholders': 90,\n",
              " 'Unreasonable requests from stakeholders': 77,\n",
              " 'I have never felt burnt out from my job': 17}"
            ]
          },
          "execution_count": 17,
          "metadata": {},
          "output_type": "execute_result"
        }
      ],
      "source": [
        "counts = dict(df['Q5_M1'].value_counts())\n",
        "counts"
      ]
    },
    {
      "cell_type": "code",
      "execution_count": null,
      "metadata": {
        "colab": {
          "base_uri": "https://localhost:8080/"
        },
        "id": "rgJJEq_YKsub",
        "outputId": "e1b21fea-84bb-4189-b0d1-fd1ef0ab07c4"
      },
      "outputs": [
        {
          "data": {
            "text/plain": [
              "{'Focusing too much time on finding and fixing errors': 301,\n",
              " 'Constantly playing catch up with stakeholder requests': 296,\n",
              " 'Lack of feedback on the products delivered': 282,\n",
              " 'Focusing too much on maintaining data pipelines and/or manual processes': 297,\n",
              " 'Fast pace of requests from stakeholders': 286,\n",
              " 'Unreasonable requests from stakeholders': 251,\n",
              " 'I have never felt burnt out from my job': 17}"
            ]
          },
          "execution_count": 19,
          "metadata": {},
          "output_type": "execute_result"
        }
      ],
      "source": [
        "questions = ['Q5_M2','Q5_M3', 'Q5_M4','Q5_M5']\n",
        "for i in questions:\n",
        " total_count = add_dict(dict(df[i].value_counts()))\n",
        "\n",
        "total_count"
      ]
    },
    {
      "cell_type": "code",
      "execution_count": null,
      "metadata": {
        "id": "8DOJNR4UNVob"
      },
      "outputs": [],
      "source": [
        "result2 = pd.Series(total_count)\n",
        "result2 = result2.sort_values(ascending= False)"
      ]
    },
    {
      "cell_type": "code",
      "execution_count": null,
      "metadata": {
        "colab": {
          "base_uri": "https://localhost:8080/",
          "height": 485
        },
        "outputId": "0a5092fd-57a2-494a-fa37-96b9f941de03",
        "id": "0M1FmgNIsFaQ"
      },
      "outputs": [
        {
          "data": {
            "image/png": "[encoded data removed]",
            "text/plain": [
              "<Figure size 576x360 with 1 Axes>"
            ]
          },
          "metadata": {},
          "output_type": "display_data"
        }
      ],
      "source": [
        "plt.figure(figsize = (8,5))\n",
        "\n",
        "\n",
        "count = sns.barplot(x = result2.values / df.shape[0]  , y = result2.index, \n",
        "                    alpha = 0.8, saturation = 1  , edgecolor = 'k',\n",
        "                    linewidth = 2, palette = 'viridis')\n",
        "\n",
        "sns.set(font_scale=1.5)\n",
        "plt.xticks(ticks=[0.1,0.2,0.3,0.4,0.5,0.6])\n",
        "plt.title('What make them feel burnt-out?', fontsize = 18, fontweight = 'light')\n",
        "plt.savefig('burnt-out.png', dpi=1200, format='png', bbox_inches='tight')\n",
        "plt.show()"
      ]
    },
    {
      "cell_type": "code",
      "execution_count": null,
      "metadata": {
        "id": "hel3WBtDsFaS",
        "outputId": "adec5630-473a-4658-a2cd-eeb764769068"
      },
      "outputs": [
        {
          "data": {
            "text/plain": [
              "Focusing too much time on finding and fixing errors                        301\n",
              "Focusing too much on maintaining data pipelines and/or manual processes    297\n",
              "Constantly playing catch up with stakeholder requests                      296\n",
              "Fast pace of requests from stakeholders                                    286\n",
              "Lack of feedback on the products delivered                                 282\n",
              "Unreasonable requests from stakeholders                                    251\n",
              "I have never felt burnt out from my job                                     17\n",
              "dtype: int64"
            ]
          },
          "execution_count": 22,
          "metadata": {},
          "output_type": "execute_result"
        }
      ],
      "source": [
        "result2"
      ]
    },
    {
      "cell_type": "markdown",
      "source": [
        "Precent of people who has never felt burning out"
      ],
      "metadata": {
        "id": "YhWxBCyc5MzC"
      }
    },
    {
      "cell_type": "code",
      "execution_count": null,
      "metadata": {
        "id": "FWISqnSpsFaT",
        "outputId": "eba10b44-c2f0-4d8b-a3be-53dc3cf60780"
      },
      "outputs": [
        {
          "data": {
            "text/plain": [
              "2.833333333333333"
            ]
          },
          "execution_count": 23,
          "metadata": {},
          "output_type": "execute_result"
        }
      ],
      "source": [
        "17 / 600 * 100"
      ]
    },
    {
      "cell_type": "markdown",
      "metadata": {
        "id": "6xi5TkZTSOx5"
      },
      "source": [
        "## Q2: Do bigger companies make them more anxious? "
      ]
    },
    {
      "cell_type": "code",
      "execution_count": null,
      "metadata": {
        "colab": {
          "base_uri": "https://localhost:8080/"
        },
        "id": "V_otGmNrAtW_",
        "outputId": "5c7e18b5-f922-4e94-d743-80ad305351e4"
      },
      "outputs": [
        {
          "data": {
            "text/plain": [
              "0    1500\n",
              "1    2000\n",
              "2      20\n",
              "Name: QH, dtype: int64"
            ]
          },
          "execution_count": 24,
          "metadata": {},
          "output_type": "execute_result"
        }
      ],
      "source": [
        "copy = df\n",
        "copy['QH'][:3]"
      ]
    },
    {
      "cell_type": "code",
      "execution_count": null,
      "metadata": {
        "colab": {
          "base_uri": "https://localhost:8080/"
        },
        "id": "SDuYwH1QS_NS",
        "outputId": "8e2fa847-bb5a-4a27-90b9-f9ba970af0cf"
      },
      "outputs": [
        {
          "data": {
            "text/plain": [
              "5"
            ]
          },
          "execution_count": 25,
          "metadata": {},
          "output_type": "execute_result"
        }
      ],
      "source": [
        "copy['QH'].min()"
      ]
    },
    {
      "cell_type": "code",
      "execution_count": null,
      "metadata": {
        "colab": {
          "base_uri": "https://localhost:8080/"
        },
        "id": "BmIXyLzXO6rZ",
        "outputId": "d001df10-2f40-48b3-a4ff-7f6365f44cb5"
      },
      "outputs": [
        {
          "data": {
            "text/plain": [
              "273000"
            ]
          },
          "execution_count": 26,
          "metadata": {},
          "output_type": "execute_result"
        }
      ],
      "source": [
        "copy['QH'].max()"
      ]
    },
    {
      "cell_type": "markdown",
      "metadata": {
        "id": "M-zHF9AHAg1Q"
      },
      "source": [
        "The range is between 5 to 273000"
      ]
    },
    {
      "cell_type": "markdown",
      "metadata": {
        "id": "AlP2rkORAuen"
      },
      "source": [
        "Suggested range\n",
        "\n",
        "| Employees No. | Range Label | \n",
        "| :-- | :--- |\n",
        "| 0 - 10 | Very small company |\n",
        "| 11 - 49 | Small company |\n",
        "| 50 - 299 | Mid-size company |\n",
        "| 300 - 4999 | Big Company |\n",
        "| 5000 - 9999 | Very big company |\n",
        "| 10000 or more | International company |\n"
      ]
    },
    {
      "cell_type": "code",
      "execution_count": null,
      "metadata": {
        "id": "vhozSyIWOwTq"
      },
      "outputs": [],
      "source": [
        "copy['QH'] = copy['QH'].astype(np.int64)"
      ]
    },
    {
      "cell_type": "code",
      "execution_count": null,
      "metadata": {
        "id": "kcwqe49c3iYJ"
      },
      "outputs": [],
      "source": [
        "criteria = [copy['QH'].between(0, 10), copy['QH'].between(11, 49),\n",
        "            copy['QH'].between(50, 299), copy['QH'].between(300, 4999),\n",
        "            copy['QH'].between(5000, 9999), copy['QH'].between(10000, 273000)]\n",
        "Range_label = ['Very small company', 'Small company', 'Mid-size company', 'Big Company','Very big company','International company']\n",
        "\n",
        "copy['QH'] = np.select(criteria, Range_label, 0)"
      ]
    },
    {
      "cell_type": "code",
      "execution_count": null,
      "metadata": {
        "colab": {
          "base_uri": "https://localhost:8080/"
        },
        "id": "zv4hWmj64Xg5",
        "outputId": "491bc753-05bf-44ff-85d9-79c73ff8a650"
      },
      "outputs": [
        {
          "data": {
            "text/plain": [
              "Big Company              429\n",
              "Mid-size company          57\n",
              "Very big company          54\n",
              "International company     40\n",
              "Small company             15\n",
              "Very small company         5\n",
              "Name: QH, dtype: int64"
            ]
          },
          "execution_count": 29,
          "metadata": {},
          "output_type": "execute_result"
        }
      ],
      "source": [
        "copy['QH'].value_counts()"
      ]
    },
    {
      "cell_type": "code",
      "execution_count": null,
      "metadata": {
        "colab": {
          "base_uri": "https://localhost:8080/",
          "height": 52
        },
        "id": "qkA34_25S_JS",
        "outputId": "4c511016-baa0-42a4-deb1-dbe2147eaaa9"
      },
      "outputs": [
        {
          "data": {
            "text/plain": [
              "'How strongly do you agree or disagree with the following statement?- I wish my job came with a therapist to help me manage the stress from my job.      '"
            ]
          },
          "execution_count": 30,
          "metadata": {},
          "output_type": "execute_result"
        }
      ],
      "source": [
        "get_question('Q6')"
      ]
    },
    {
      "cell_type": "code",
      "execution_count": null,
      "metadata": {
        "colab": {
          "base_uri": "https://localhost:8080/"
        },
        "id": "NNy1qpq446Un",
        "outputId": "eb1138a2-9a55-47e6-b09c-25cb3e2f3b6c"
      },
      "outputs": [
        {
          "data": {
            "text/plain": [
              "Agree somewhat       269\n",
              "Agree strongly       200\n",
              "Disagree somewhat    100\n",
              "Disagree strongly     31\n",
              "Name: Q6, dtype: int64"
            ]
          },
          "execution_count": 31,
          "metadata": {},
          "output_type": "execute_result"
        }
      ],
      "source": [
        "copy['Q6'].value_counts()"
      ]
    },
    {
      "cell_type": "code",
      "execution_count": null,
      "metadata": {
        "id": "9USzgBBi5Dq_"
      },
      "outputs": [],
      "source": [
        "copy['Q6'] = copy['Q6'].map({'Agree strongly':4, 'Agree somewhat':3, 'Disagree somewhat':2, 'Disagree strongly':1}) "
      ]
    },
    {
      "cell_type": "code",
      "execution_count": null,
      "metadata": {
        "colab": {
          "base_uri": "https://localhost:8080/"
        },
        "id": "wJM31ZwBR-H5",
        "outputId": "d0df1b72-f066-4206-9bba-e504a19bf25e"
      },
      "outputs": [
        {
          "data": {
            "text/plain": [
              "0    3\n",
              "1    4\n",
              "2    4\n",
              "3    4\n",
              "4    3\n",
              "5    1\n",
              "6    4\n",
              "7    3\n",
              "8    4\n",
              "9    4\n",
              "Name: Q6, dtype: int64"
            ]
          },
          "execution_count": 33,
          "metadata": {},
          "output_type": "execute_result"
        }
      ],
      "source": [
        "copy['Q6'][:10]"
      ]
    },
    {
      "cell_type": "code",
      "execution_count": null,
      "metadata": {
        "colab": {
          "base_uri": "https://localhost:8080/"
        },
        "id": "OQkaztEA6JS6",
        "outputId": "eb87be1a-1e48-42e0-a49a-0d35e3932ce5"
      },
      "outputs": [
        {
          "data": {
            "text/plain": [
              "QH\n",
              "Small company            2.733333\n",
              "Mid-size company         2.964912\n",
              "Big Company              3.055944\n",
              "International company    3.125000\n",
              "Very big company         3.203704\n",
              "Very small company       3.800000\n",
              "Name: Q6, dtype: float64"
            ]
          },
          "execution_count": 34,
          "metadata": {},
          "output_type": "execute_result"
        }
      ],
      "source": [
        "copy.groupby(['QH']).mean()['Q6'].sort_values().dropna()"
      ]
    },
    {
      "cell_type": "code",
      "execution_count": null,
      "metadata": {
        "colab": {
          "base_uri": "https://localhost:8080/"
        },
        "id": "FW_ez3tDXJp7",
        "outputId": "08b4437a-cd78-4774-ec0a-056682be6d97"
      },
      "outputs": [
        {
          "data": {
            "text/plain": [
              "We have partially implemented DataOps into our company’s data processes          243\n",
              "We have mostly or fully implemented DataOps into our company’s data processes    239\n",
              "We have not implemented DataOps into our processes, but have plans to            111\n",
              "We have not implemented DataOps into our processes, and have no plans to           7\n",
              "Name: QD, dtype: int64"
            ]
          },
          "execution_count": 35,
          "metadata": {},
          "output_type": "execute_result"
        }
      ],
      "source": [
        "df['QD'].value_counts()"
      ]
    },
    {
      "cell_type": "code",
      "execution_count": null,
      "metadata": {
        "colab": {
          "base_uri": "https://localhost:8080/",
          "height": 300
        },
        "id": "oLKefa5RP-V_",
        "outputId": "e359eda0-fa97-4e14-f134-dbe82d33d02c"
      },
      "outputs": [
        {
          "data": {
            "text/html": [
              "<div>\n",
              "<style scoped>\n",
              "    .dataframe tbody tr th:only-of-type {\n",
              "        vertical-align: middle;\n",
              "    }\n",
              "\n",
              "    .dataframe tbody tr th {\n",
              "        vertical-align: top;\n",
              "    }\n",
              "\n",
              "    .dataframe thead th {\n",
              "        text-align: right;\n",
              "    }\n",
              "</style>\n",
              "<table border=\"1\" class=\"dataframe\">\n",
              "  <thead>\n",
              "    <tr style=\"text-align: right;\">\n",
              "      <th></th>\n",
              "      <th>AGE</th>\n",
              "      <th>Q3</th>\n",
              "      <th>Q4</th>\n",
              "      <th>Q6</th>\n",
              "    </tr>\n",
              "  </thead>\n",
              "  <tbody>\n",
              "    <tr>\n",
              "      <th>count</th>\n",
              "      <td>600.000000</td>\n",
              "      <td>600.000000</td>\n",
              "      <td>600.000000</td>\n",
              "      <td>600.000000</td>\n",
              "    </tr>\n",
              "    <tr>\n",
              "      <th>mean</th>\n",
              "      <td>42.405000</td>\n",
              "      <td>32.466667</td>\n",
              "      <td>27.690000</td>\n",
              "      <td>3.063333</td>\n",
              "    </tr>\n",
              "    <tr>\n",
              "      <th>std</th>\n",
              "      <td>8.769406</td>\n",
              "      <td>18.496913</td>\n",
              "      <td>19.312747</td>\n",
              "      <td>0.838945</td>\n",
              "    </tr>\n",
              "    <tr>\n",
              "      <th>min</th>\n",
              "      <td>21.000000</td>\n",
              "      <td>1.000000</td>\n",
              "      <td>0.000000</td>\n",
              "      <td>1.000000</td>\n",
              "    </tr>\n",
              "    <tr>\n",
              "      <th>25%</th>\n",
              "      <td>36.000000</td>\n",
              "      <td>20.000000</td>\n",
              "      <td>14.750000</td>\n",
              "      <td>3.000000</td>\n",
              "    </tr>\n",
              "    <tr>\n",
              "      <th>50%</th>\n",
              "      <td>41.000000</td>\n",
              "      <td>30.000000</td>\n",
              "      <td>20.000000</td>\n",
              "      <td>3.000000</td>\n",
              "    </tr>\n",
              "    <tr>\n",
              "      <th>75%</th>\n",
              "      <td>50.000000</td>\n",
              "      <td>40.000000</td>\n",
              "      <td>40.000000</td>\n",
              "      <td>4.000000</td>\n",
              "    </tr>\n",
              "    <tr>\n",
              "      <th>max</th>\n",
              "      <td>66.000000</td>\n",
              "      <td>100.000000</td>\n",
              "      <td>100.000000</td>\n",
              "      <td>4.000000</td>\n",
              "    </tr>\n",
              "  </tbody>\n",
              "</table>\n",
              "</div>"
            ],
            "text/plain": [
              "              AGE          Q3          Q4          Q6\n",
              "count  600.000000  600.000000  600.000000  600.000000\n",
              "mean    42.405000   32.466667   27.690000    3.063333\n",
              "std      8.769406   18.496913   19.312747    0.838945\n",
              "min     21.000000    1.000000    0.000000    1.000000\n",
              "25%     36.000000   20.000000   14.750000    3.000000\n",
              "50%     41.000000   30.000000   20.000000    3.000000\n",
              "75%     50.000000   40.000000   40.000000    4.000000\n",
              "max     66.000000  100.000000  100.000000    4.000000"
            ]
          },
          "execution_count": 36,
          "metadata": {},
          "output_type": "execute_result"
        }
      ],
      "source": [
        "df.describe()"
      ]
    },
    {
      "cell_type": "code",
      "execution_count": null,
      "metadata": {
        "colab": {
          "base_uri": "https://localhost:8080/",
          "height": 372
        },
        "id": "_LGFgjMAOJhI",
        "outputId": "e943bcdc-e240-4ab5-be49-29ae33c0c884"
      },
      "outputs": [
        {
          "data": {
            "text/html": [
              "<div>\n",
              "<style scoped>\n",
              "    .dataframe tbody tr th:only-of-type {\n",
              "        vertical-align: middle;\n",
              "    }\n",
              "\n",
              "    .dataframe tbody tr th {\n",
              "        vertical-align: top;\n",
              "    }\n",
              "\n",
              "    .dataframe thead th {\n",
              "        text-align: right;\n",
              "    }\n",
              "</style>\n",
              "<table border=\"1\" class=\"dataframe\">\n",
              "  <thead>\n",
              "    <tr style=\"text-align: right;\">\n",
              "      <th></th>\n",
              "      <th>GENDER</th>\n",
              "      <th>EMPLOYMENT</th>\n",
              "      <th>STATE</th>\n",
              "      <th>REGION</th>\n",
              "      <th>EDUCATION</th>\n",
              "      <th>QA_M1</th>\n",
              "      <th>QA_M2</th>\n",
              "      <th>QA_M3</th>\n",
              "      <th>QA_M4</th>\n",
              "      <th>QA_M5</th>\n",
              "      <th>...</th>\n",
              "      <th>Q14_M3</th>\n",
              "      <th>Q14_M4</th>\n",
              "      <th>Q14_M5</th>\n",
              "      <th>Q15</th>\n",
              "      <th>QE</th>\n",
              "      <th>QF</th>\n",
              "      <th>QG</th>\n",
              "      <th>QH</th>\n",
              "      <th>QI</th>\n",
              "      <th>QJ</th>\n",
              "    </tr>\n",
              "  </thead>\n",
              "  <tbody>\n",
              "    <tr>\n",
              "      <th>count</th>\n",
              "      <td>600</td>\n",
              "      <td>600</td>\n",
              "      <td>600</td>\n",
              "      <td>600</td>\n",
              "      <td>600</td>\n",
              "      <td>600</td>\n",
              "      <td>600</td>\n",
              "      <td>600</td>\n",
              "      <td>549</td>\n",
              "      <td>400</td>\n",
              "      <td>...</td>\n",
              "      <td>318</td>\n",
              "      <td>111</td>\n",
              "      <td>18</td>\n",
              "      <td>600</td>\n",
              "      <td>600</td>\n",
              "      <td>600</td>\n",
              "      <td>600</td>\n",
              "      <td>600</td>\n",
              "      <td>600</td>\n",
              "      <td>600</td>\n",
              "    </tr>\n",
              "    <tr>\n",
              "      <th>unique</th>\n",
              "      <td>3</td>\n",
              "      <td>1</td>\n",
              "      <td>49</td>\n",
              "      <td>4</td>\n",
              "      <td>3</td>\n",
              "      <td>9</td>\n",
              "      <td>9</td>\n",
              "      <td>9</td>\n",
              "      <td>9</td>\n",
              "      <td>9</td>\n",
              "      <td>...</td>\n",
              "      <td>8</td>\n",
              "      <td>8</td>\n",
              "      <td>8</td>\n",
              "      <td>4</td>\n",
              "      <td>39</td>\n",
              "      <td>23</td>\n",
              "      <td>67</td>\n",
              "      <td>6</td>\n",
              "      <td>8</td>\n",
              "      <td>23</td>\n",
              "    </tr>\n",
              "    <tr>\n",
              "      <th>top</th>\n",
              "      <td>Male</td>\n",
              "      <td>\\tWork full-time</td>\n",
              "      <td>California</td>\n",
              "      <td>South</td>\n",
              "      <td>\\tBachelor’s degree</td>\n",
              "      <td>Develop, maintain, and optimize data systems t...</td>\n",
              "      <td>Develop, maintain, and optimize data systems t...</td>\n",
              "      <td>Maintain the distributed systems that execute ...</td>\n",
              "      <td>Maintain data in ready-to-use formats</td>\n",
              "      <td>Manage continuous integration and continuous d...</td>\n",
              "      <td>...</td>\n",
              "      <td>Lack of the right skills among employees</td>\n",
              "      <td>Organization isn’t sure how to implement this</td>\n",
              "      <td>Scale of incorporating DataOps is too large</td>\n",
              "      <td>Agree somewhat</td>\n",
              "      <td>10</td>\n",
              "      <td>5</td>\n",
              "      <td>20</td>\n",
              "      <td>Big Company</td>\n",
              "      <td>$50 Million to under $100 Million</td>\n",
              "      <td>Information technology (IT) / software</td>\n",
              "    </tr>\n",
              "    <tr>\n",
              "      <th>freq</th>\n",
              "      <td>436</td>\n",
              "      <td>600</td>\n",
              "      <td>46</td>\n",
              "      <td>224</td>\n",
              "      <td>334</td>\n",
              "      <td>92</td>\n",
              "      <td>81</td>\n",
              "      <td>81</td>\n",
              "      <td>84</td>\n",
              "      <td>52</td>\n",
              "      <td>...</td>\n",
              "      <td>49</td>\n",
              "      <td>18</td>\n",
              "      <td>4</td>\n",
              "      <td>288</td>\n",
              "      <td>68</td>\n",
              "      <td>93</td>\n",
              "      <td>50</td>\n",
              "      <td>429</td>\n",
              "      <td>116</td>\n",
              "      <td>91</td>\n",
              "    </tr>\n",
              "  </tbody>\n",
              "</table>\n",
              "<p>4 rows × 42 columns</p>\n",
              "</div>"
            ],
            "text/plain": [
              "       GENDER         EMPLOYMENT       STATE REGION            EDUCATION  \\\n",
              "count     600                600         600    600                  600   \n",
              "unique      3                  1          49      4                    3   \n",
              "top      Male  \\tWork full-time   California  South  \\tBachelor’s degree   \n",
              "freq      436                600          46    224                  334   \n",
              "\n",
              "                                                    QA_M1  \\\n",
              "count                                                 600   \n",
              "unique                                                  9   \n",
              "top     Develop, maintain, and optimize data systems t...   \n",
              "freq                                                   92   \n",
              "\n",
              "                                                    QA_M2  \\\n",
              "count                                                 600   \n",
              "unique                                                  9   \n",
              "top     Develop, maintain, and optimize data systems t...   \n",
              "freq                                                   81   \n",
              "\n",
              "                                                    QA_M3  \\\n",
              "count                                                 600   \n",
              "unique                                                  9   \n",
              "top     Maintain the distributed systems that execute ...   \n",
              "freq                                                   81   \n",
              "\n",
              "                                        QA_M4  \\\n",
              "count                                     549   \n",
              "unique                                      9   \n",
              "top     Maintain data in ready-to-use formats   \n",
              "freq                                       84   \n",
              "\n",
              "                                                    QA_M5  ...  \\\n",
              "count                                                 400  ...   \n",
              "unique                                                  9  ...   \n",
              "top     Manage continuous integration and continuous d...  ...   \n",
              "freq                                                   52  ...   \n",
              "\n",
              "                                          Q14_M3  \\\n",
              "count                                        318   \n",
              "unique                                         8   \n",
              "top     Lack of the right skills among employees   \n",
              "freq                                          49   \n",
              "\n",
              "                                               Q14_M4  \\\n",
              "count                                             111   \n",
              "unique                                              8   \n",
              "top     Organization isn’t sure how to implement this   \n",
              "freq                                               18   \n",
              "\n",
              "                                             Q14_M5             Q15   QE   QF  \\\n",
              "count                                            18             600  600  600   \n",
              "unique                                            8               4   39   23   \n",
              "top     Scale of incorporating DataOps is too large  Agree somewhat   10    5   \n",
              "freq                                              4             288   68   93   \n",
              "\n",
              "         QG           QH                                 QI  \\\n",
              "count   600          600                                600   \n",
              "unique   67            6                                  8   \n",
              "top      20  Big Company  $50 Million to under $100 Million   \n",
              "freq     50          429                                116   \n",
              "\n",
              "                                            QJ  \n",
              "count                                      600  \n",
              "unique                                      23  \n",
              "top     Information technology (IT) / software  \n",
              "freq                                        91  \n",
              "\n",
              "[4 rows x 42 columns]"
            ]
          },
          "execution_count": 37,
          "metadata": {},
          "output_type": "execute_result"
        }
      ],
      "source": [
        "df.describe(include=['object'])"
      ]
    },
    {
      "cell_type": "code",
      "execution_count": null,
      "metadata": {
        "colab": {
          "base_uri": "https://localhost:8080/"
        },
        "id": "nxMO_4g2zfsY",
        "outputId": "5bf372b1-9d01-4496-b80e-9344d806bd4a"
      },
      "outputs": [
        {
          "data": {
            "text/plain": [
              "\\tBachelor’s degree                 334\n",
              "\\tGraduate or post-graduate work    204\n",
              "\\tAssociate degree                   62\n",
              "Name: EDUCATION, dtype: int64"
            ]
          },
          "execution_count": 38,
          "metadata": {},
          "output_type": "execute_result"
        }
      ],
      "source": [
        "df['EDUCATION'].value_counts()"
      ]
    },
    {
      "cell_type": "code",
      "execution_count": null,
      "metadata": {
        "id": "giBAvk7ezmwn"
      },
      "outputs": [],
      "source": [
        "copy['EDUCATION'] = copy['EDUCATION'].map(\n",
        "    {'\\tBachelor’s degree':1, \n",
        "     '\\tGraduate or post-graduate work':2,\n",
        "     '\\tAssociate degree':3}) "
      ]
    },
    {
      "cell_type": "code",
      "execution_count": null,
      "metadata": {
        "colab": {
          "base_uri": "https://localhost:8080/"
        },
        "id": "_i48Ox8_JHkM",
        "outputId": "28b4985e-67bc-42d1-9a59-b45719f51510"
      },
      "outputs": [
        {
          "name": "stdout",
          "output_type": "stream",
          "text": [
            "GENDER 0\n",
            "AGE 0\n",
            "EMPLOYMENT 0\n",
            "STATE 0\n",
            "REGION 0\n",
            "EDUCATION 0\n",
            "QA_M1 0\n",
            "QA_M2 0\n",
            "QA_M3 0\n",
            "QA_M4 51\n",
            "QA_M5 200\n",
            "QA_M6 432\n",
            "QA_M7 566\n",
            "QA_M8 593\n",
            "QB 0\n",
            "QC 0\n",
            "QD 0\n",
            "Q1 0\n",
            "Q2 0\n",
            "Q3 0\n",
            "Q4 0\n",
            "Q5_M1 0\n",
            "Q5_M2 29\n",
            "Q5_M3 146\n",
            "Q5_M4 504\n",
            "Q5_M5 591\n",
            "Q6 0\n",
            "Q7 0\n",
            "Q8 0\n",
            "Q9 0\n",
            "Q10 0\n",
            "Q11 0\n",
            "Q12 0\n",
            "Q13 0\n",
            "Q14_M1 239\n",
            "Q14_M2 247\n",
            "Q14_M3 282\n",
            "Q14_M4 489\n",
            "Q14_M5 582\n",
            "Q15 0\n",
            "QE 0\n",
            "QF 0\n",
            "QG 0\n",
            "QH 0\n",
            "QI 0\n",
            "QJ 0\n"
          ]
        }
      ],
      "source": [
        "col_names = list(df.columns.values) \n",
        "\n",
        "for i in col_names:\n",
        "    print(i, df[i].isnull().sum()) "
      ]
    },
    {
      "cell_type": "markdown",
      "metadata": {
        "id": "FTykHJiAhnld"
      },
      "source": [
        "There is no null values except for the columns that represent multi-answers and it won't be used "
      ]
    },
    {
      "cell_type": "code",
      "execution_count": null,
      "metadata": {
        "id": "eTf4AX9_iAZu"
      },
      "outputs": [],
      "source": [
        "copy = copy.drop(['QA_M1','QA_M2','QA_M3',\n",
        "'QA_M4', 'QA_M5', 'QA_M6','QA_M7', \n",
        "'QA_M8','Q5_M1','Q5_M2','Q5_M3',\n",
        "'Q5_M4','Q5_M5','Q14_M1','Q14_M2',\n",
        "'Q14_M3' ,'Q14_M4' ,'Q14_M5'], axis=1)"
      ]
    },
    {
      "cell_type": "code",
      "execution_count": null,
      "metadata": {
        "colab": {
          "base_uri": "https://localhost:8080/"
        },
        "id": "yMIT4CZhlqxS",
        "outputId": "6ff3e886-5053-4a22-cd41-1cdf762a4676"
      },
      "outputs": [
        {
          "name": "stdout",
          "output_type": "stream",
          "text": [
            "GENDER Male          436\n",
            "Female        161\n",
            "Non-Binary      3\n",
            "Name: GENDER, dtype: int64\n",
            "AGE 39    33\n",
            "38    33\n",
            "43    32\n",
            "36    31\n",
            "41    30\n",
            "40    28\n",
            "50    27\n",
            "35    27\n",
            "44    26\n",
            "48    23\n",
            "37    21\n",
            "56    20\n",
            "42    17\n",
            "55    16\n",
            "34    16\n",
            "51    15\n",
            "54    15\n",
            "45    14\n",
            "33    14\n",
            "52    13\n",
            "53    13\n",
            "29    13\n",
            "30    13\n",
            "49    12\n",
            "28    11\n",
            "32    11\n",
            "47    11\n",
            "58    11\n",
            "27     9\n",
            "46     7\n",
            "59     6\n",
            "26     6\n",
            "31     5\n",
            "60     4\n",
            "57     4\n",
            "24     3\n",
            "63     2\n",
            "61     2\n",
            "21     1\n",
            "66     1\n",
            "23     1\n",
            "25     1\n",
            "65     1\n",
            "62     1\n",
            "Name: AGE, dtype: int64\n",
            "EMPLOYMENT \\tWork full-time     600\n",
            "Name: EMPLOYMENT, dtype: int64\n",
            "STATE California              46\n",
            "Florida                 45\n",
            "New York                37\n",
            "Texas                   27\n",
            "Georgia                 27\n",
            "Illinois                27\n",
            "Washington              24\n",
            "Arizona                 20\n",
            "Michigan                19\n",
            "Wisconsin               18\n",
            "Tennessee               18\n",
            "North Carolina          18\n",
            "Louisiana               17\n",
            "Massachusetts           15\n",
            "New Jersey              14\n",
            "Ohio                    14\n",
            "Oregon                  13\n",
            "Maryland                13\n",
            "Pennsylvania            12\n",
            "Indiana                 10\n",
            "New Mexico               9\n",
            "Connecticut              9\n",
            "Virginia                 9\n",
            "Alabama                  9\n",
            "Minnesota                9\n",
            "Oklahoma                 9\n",
            "Maine                    9\n",
            "Colorado                 9\n",
            "Kansas                   8\n",
            "Rhode Island             7\n",
            "Utah                     7\n",
            "Kentucky                 7\n",
            "Missouri                 7\n",
            "District of Columbia     6\n",
            "Mississippi              5\n",
            "Iowa                     5\n",
            "Delaware                 5\n",
            "New Hampshire            4\n",
            "Nevada                   4\n",
            "Wyoming                  4\n",
            "South Dakota             4\n",
            "West Virginia            3\n",
            "Vermont                  3\n",
            "South Carolina           3\n",
            "Arkansas                 3\n",
            "Montana                  3\n",
            "North Dakota             2\n",
            "Hawaii                   2\n",
            "Idaho                    2\n",
            "Name: STATE, dtype: int64\n",
            "REGION South        224\n",
            "West         143\n",
            "Midwest      123\n",
            "Northeast    110\n",
            "Name: REGION, dtype: int64\n",
            "EDUCATION 1    334\n",
            "2    204\n",
            "3     62\n",
            "Name: EDUCATION, dtype: int64\n",
            "QB Data Engineer                128\n",
            "Data Management Lead          91\n",
            "Big Data Engineer             75\n",
            "Data & Analytics Lead         66\n",
            "Solutions Architect           58\n",
            "Enterprise Architect          50\n",
            "ETL Developer                 49\n",
            "Data Architect                47\n",
            "Enterprise Analytics Lead     33\n",
            "Other                          3\n",
            "Name: QB, dtype: int64\n",
            "QC No     401\n",
            "Yes    199\n",
            "Name: QC, dtype: int64\n",
            "QD We have partially implemented DataOps into our company’s data processes          243\n",
            "We have mostly or fully implemented DataOps into our company’s data processes    239\n",
            "We have not implemented DataOps into our processes, but have plans to            111\n",
            "We have not implemented DataOps into our processes, and have no plans to           7\n",
            "Name: QD, dtype: int64\n",
            "Q1 We frequently hope and pray that things don’t break    314\n",
            "We are confident they won’t break                      286\n",
            "Name: Q1, dtype: int64\n",
            "Q2 Often           250\n",
            "Sometimes       178\n",
            "All the time    111\n",
            "Rarely           54\n",
            "Never             7\n",
            "Name: Q2, dtype: int64\n",
            "Q3 30     115\n",
            "20      92\n",
            "40      73\n",
            "50      61\n",
            "15      57\n",
            "25      41\n",
            "60      39\n",
            "10      37\n",
            "5       21\n",
            "35      15\n",
            "70      11\n",
            "80       6\n",
            "100      4\n",
            "45       3\n",
            "65       3\n",
            "85       2\n",
            "12       2\n",
            "55       2\n",
            "1        2\n",
            "90       2\n",
            "75       2\n",
            "3        2\n",
            "89       1\n",
            "78       1\n",
            "8        1\n",
            "27       1\n",
            "95       1\n",
            "2        1\n",
            "33       1\n",
            "46       1\n",
            "Name: Q3, dtype: int64\n",
            "Q4 20     115\n",
            "10     106\n",
            "30      64\n",
            "15      63\n",
            "40      49\n",
            "50      38\n",
            "5       31\n",
            "25      25\n",
            "60      21\n",
            "45      18\n",
            "35      12\n",
            "55      11\n",
            "70       8\n",
            "65       6\n",
            "12       5\n",
            "75       5\n",
            "100      4\n",
            "3        3\n",
            "95       2\n",
            "90       2\n",
            "1        2\n",
            "0        1\n",
            "19       1\n",
            "78       1\n",
            "14       1\n",
            "7        1\n",
            "96       1\n",
            "22       1\n",
            "85       1\n",
            "87       1\n",
            "80       1\n",
            "Name: Q4, dtype: int64\n",
            "Q6 3    269\n",
            "4    200\n",
            "2    100\n",
            "1     31\n",
            "Name: Q6, dtype: int64\n",
            "Q7 Often           254\n",
            "Sometimes       142\n",
            "All the time    124\n",
            "Rarely           72\n",
            "Never             8\n",
            "Name: Q7, dtype: int64\n",
            "Q8 Sometimes       232\n",
            "Often           187\n",
            "All the time    115\n",
            "Rarely           56\n",
            "Never            10\n",
            "Name: Q8, dtype: int64\n",
            "Q9 Somewhat likely      263\n",
            "Very likely          154\n",
            "Not very likely      133\n",
            "Not at all likely     50\n",
            "Name: Q9, dtype: int64\n",
            "Q10 Yes, multiple times    272\n",
            "Yes, once              201\n",
            "No, never              127\n",
            "Name: Q10, dtype: int64\n",
            "Q11 Somewhat difficult                                         281\n",
            "Not very difficult                                         142\n",
            "Very difficult                                             134\n",
            "Not at all difficult                                        40\n",
            "We do not have formal data governance policies in place      3\n",
            "Name: Q11, dtype: int64\n",
            "Q12 Somewhat effectively      262\n",
            "Very effectively          185\n",
            "Not very effectively      126\n",
            "Not at all effectively     27\n",
            "Name: Q12, dtype: int64\n",
            "Q13 Very important          317\n",
            "Essential               149\n",
            "Somewhat important      120\n",
            "Not very important       12\n",
            "Not at all important      2\n",
            "Name: Q13, dtype: int64\n",
            "Q15 Agree somewhat       288\n",
            "Agree strongly       247\n",
            "Disagree somewhat     57\n",
            "Disagree strongly      8\n",
            "Name: Q15, dtype: int64\n",
            "QE 10                    68\n",
            "12                    54\n",
            "9                     45\n",
            "8                     41\n",
            "5                     39\n",
            "15                    38\n",
            "13                    31\n",
            "11                    30\n",
            "14                    30\n",
            "6                     29\n",
            "4                     25\n",
            "7                     23\n",
            "18                    22\n",
            "3                     19\n",
            "16                    16\n",
            "2                     13\n",
            "20                    12\n",
            "17                    11\n",
            "35                     4\n",
            "30                     4\n",
            "36                     4\n",
            "28                     4\n",
            "22                     4\n",
            "32                     3\n",
            "29                     3\n",
            "37                     3\n",
            "19                     3\n",
            "34                     3\n",
            "23                     2\n",
            "31                     2\n",
            "Less than one year     2\n",
            "26                     2\n",
            "27                     2\n",
            "1                      2\n",
            "24                     2\n",
            "25                     2\n",
            "21                     1\n",
            "33                     1\n",
            "38                     1\n",
            "Name: QE, dtype: int64\n",
            "QF 5                     93\n",
            "4                     79\n",
            "6                     69\n",
            "3                     54\n",
            "10                    54\n",
            "7                     52\n",
            "2                     44\n",
            "8                     41\n",
            "12                    24\n",
            "9                     16\n",
            "11                    14\n",
            "15                    13\n",
            "14                    12\n",
            "13                    12\n",
            "1                      5\n",
            "18                     4\n",
            "17                     4\n",
            "16                     3\n",
            "20                     2\n",
            "Less than one year     2\n",
            "25                     1\n",
            "30                     1\n",
            "19                     1\n",
            "Name: QF, dtype: int64\n",
            "QG 20    50\n",
            "15    39\n",
            "30    36\n",
            "25    29\n",
            "18    24\n",
            "      ..\n",
            "2      1\n",
            "62     1\n",
            "49     1\n",
            "90     1\n",
            "59     1\n",
            "Name: QG, Length: 67, dtype: int64\n",
            "QH Big Company              429\n",
            "Mid-size company          57\n",
            "Very big company          54\n",
            "International company     40\n",
            "Small company             15\n",
            "Very small company         5\n",
            "Name: QH, dtype: int64\n",
            "QI $50 Million to under $100 Million     116\n",
            "$100 Million to under $250 Million    116\n",
            "$250 Million to under $500 Million    114\n",
            "$25 Million to under $50 Million       88\n",
            "$500 Million to under $1 Billion       70\n",
            "$10 Million to under $25 Million       44\n",
            "$1 Billion or more                     31\n",
            "Less than $10 Million                  21\n",
            "Name: QI, dtype: int64\n",
            "QJ Information technology (IT) / software         91\n",
            "Manufacturing                                  75\n",
            "Healthcare / medicine / pharmaceuticals        48\n",
            "Retail                                         40\n",
            "Hospitality / restaurant / service industry    39\n",
            "Banking                                        38\n",
            "Construction                                   31\n",
            "Accounting                                     27\n",
            "Wholesale                                      27\n",
            "Automotive                                     25\n",
            "Communications                                 23\n",
            "Consulting                                     23\n",
            "Science / engineering                          21\n",
            "Education                                      19\n",
            "Entertainment                                  16\n",
            "Energy                                         16\n",
            "Real estate                                    11\n",
            "Journalism / media / publishing                 9\n",
            "Government / policy                             6\n",
            "Utilities                                       6\n",
            "Law                                             4\n",
            "Other                                           3\n",
            "Non-profit                                      2\n",
            "Name: QJ, dtype: int64\n"
          ]
        }
      ],
      "source": [
        "cols = list(copy.columns.values)\n",
        "#cols.remove('AGE')\n",
        "for i in cols:\n",
        "    print(i, copy[i].value_counts()) "
      ]
    },
    {
      "cell_type": "code",
      "execution_count": null,
      "metadata": {
        "id": "2yyIuTtIUXNt"
      },
      "outputs": [],
      "source": [
        "col_names = ['GENDER','EDUCATION','QB','QC','QD','Q1','Q2','Q6','Q7','Q8','Q9','Q10','Q11','QH','QJ']\n",
        "#specifying the columns we're only concerned about"
      ]
    },
    {
      "cell_type": "code",
      "execution_count": null,
      "metadata": {
        "id": "w1X7ixVvsFbA",
        "outputId": "8cdd6906-1311-4d1b-e530-a3bce2a46ec9"
      },
      "outputs": [
        {
          "name": "stdout",
          "output_type": "stream",
          "text": [
            "What is your gender please?\n",
            "Male          436\n",
            "Female        161\n",
            "Non-Binary      3\n",
            "Name: GENDER, dtype: int64\n",
            "Which of the following describes the department in which you work at your company?\n",
            "1    334\n",
            "2    204\n",
            "3     62\n",
            "Name: EDUCATION, dtype: int64\n",
            "Which of the following best describes your current title?\n",
            "Data Engineer                128\n",
            "Data Management Lead          91\n",
            "Big Data Engineer             75\n",
            "Data & Analytics Lead         66\n",
            "Solutions Architect           58\n",
            "Enterprise Architect          50\n",
            "ETL Developer                 49\n",
            "Data Architect                47\n",
            "Enterprise Analytics Lead     33\n",
            "Other                          3\n",
            "Name: QB, dtype: int64\n",
            "Do you currently work in a management-level position?   \n",
            "No     401\n",
            "Yes    199\n",
            "Name: QC, dtype: int64\n",
            "To what extent, if at all, has your company implemented DataOps into its processes?           \n",
            "We have partially implemented DataOps into our company’s data processes          243\n",
            "We have mostly or fully implemented DataOps into our company’s data processes    239\n",
            "We have not implemented DataOps into our processes, but have plans to            111\n",
            "We have not implemented DataOps into our processes, and have no plans to           7\n",
            "Name: QD, dtype: int64\n",
            "Which of the following best describes the reliability of the data and analytics and products your team produces? \n",
            "We frequently hope and pray that things don’t break    314\n",
            "We are confident they won’t break                      286\n",
            "Name: Q1, dtype: int64\n",
            "How often do you get data requests with unreasonable expectations?       \n",
            "Often           250\n",
            "Sometimes       178\n",
            "All the time    111\n",
            "Rarely           54\n",
            "Never             7\n",
            "Name: Q2, dtype: int64\n",
            "How strongly do you agree or disagree with the following statement?- I wish my job came with a therapist to help me manage the stress from my job.      \n",
            "3    269\n",
            "4    200\n",
            "2    100\n",
            "1     31\n",
            "Name: Q6, dtype: int64\n",
            "How often, if ever, does the data engineering team at your company receive the blame when things go wrong with the company’s data and analytics?     \n",
            "Often           254\n",
            "Sometimes       142\n",
            "All the time    124\n",
            "Rarely           72\n",
            "Never             8\n",
            "Name: Q7, dtype: int64\n",
            "How often, if ever, is your work-life balance disrupted due to additional unplanned work?      \n",
            "Sometimes       232\n",
            "Often           187\n",
            "All the time    115\n",
            "Rarely           56\n",
            "Never            10\n",
            "Name: Q8, dtype: int64\n",
            "How likely are you to leave your current company for another data engineering job in the next 12 months?\n",
            "Somewhat likely      263\n",
            "Very likely          154\n",
            "Not very likely      133\n",
            "Not at all likely     50\n",
            "Name: Q9, dtype: int64\n",
            "Have you ever, even once, considered leaving your career path as a data engineer because of the stress associated with building your company’s data infrastructure?      \n",
            "Yes, multiple times    272\n",
            "Yes, once              201\n",
            "No, never              127\n",
            "Name: Q10, dtype: int64\n",
            "How difficult does your company's data governance policies make your day-to-day job?       \n",
            "Somewhat difficult                                         281\n",
            "Not very difficult                                         142\n",
            "Very difficult                                             134\n",
            "Not at all difficult                                        40\n",
            "We do not have formal data governance policies in place      3\n",
            "Name: Q11, dtype: int64\n",
            "How many employees does your company have? Please include all branches and locations if applicable. Your best guess is fine.\n",
            "Big Company              429\n",
            "Mid-size company          57\n",
            "Very big company          54\n",
            "International company     40\n",
            "Small company             15\n",
            "Very small company         5\n",
            "Name: QH, dtype: int64\n",
            "Which of the following best describes the industry in which your company operates?\n",
            "Information technology (IT) / software         91\n",
            "Manufacturing                                  75\n",
            "Healthcare / medicine / pharmaceuticals        48\n",
            "Retail                                         40\n",
            "Hospitality / restaurant / service industry    39\n",
            "Banking                                        38\n",
            "Construction                                   31\n",
            "Accounting                                     27\n",
            "Wholesale                                      27\n",
            "Automotive                                     25\n",
            "Communications                                 23\n",
            "Consulting                                     23\n",
            "Science / engineering                          21\n",
            "Education                                      19\n",
            "Entertainment                                  16\n",
            "Energy                                         16\n",
            "Real estate                                    11\n",
            "Journalism / media / publishing                 9\n",
            "Government / policy                             6\n",
            "Utilities                                       6\n",
            "Law                                             4\n",
            "Other                                           3\n",
            "Non-profit                                      2\n",
            "Name: QJ, dtype: int64\n"
          ]
        }
      ],
      "source": [
        "for i in col_names:\n",
        "    print(get_question(i))\n",
        "    print(copy[i].value_counts()) "
      ]
    },
    {
      "cell_type": "code",
      "execution_count": null,
      "metadata": {
        "id": "HvwI3xj2sFbB"
      },
      "outputs": [],
      "source": [
        "copy['QC'] = copy['QC'].map(\n",
        "    {'Yes':'Mang-lvl', \n",
        "     'No':'Non-mang'}) "
      ]
    },
    {
      "cell_type": "code",
      "execution_count": null,
      "metadata": {
        "id": "BPh_eDZYsFbC"
      },
      "outputs": [],
      "source": [
        "copy['Q10'] = copy['Q10'].map(\n",
        "    {'No, never':'Never', \n",
        "     'Yes, multiple times':'Multiple-times',\n",
        "     'Yes, once':'one-time'}) "
      ]
    },
    {
      "cell_type": "markdown",
      "metadata": {
        "id": "g-04i3bgk1n3"
      },
      "source": [
        "### Encoding nominal variables"
      ]
    },
    {
      "cell_type": "code",
      "execution_count": null,
      "metadata": {
        "id": "r9UAijkgsFbE"
      },
      "outputs": [],
      "source": [
        "new_df = pd.get_dummies(copy['GENDER'])"
      ]
    },
    {
      "cell_type": "code",
      "execution_count": null,
      "metadata": {
        "id": "oTrb8GFusFbF",
        "outputId": "1dd608d7-8c40-41d6-8c27-1537c2a3f146"
      },
      "outputs": [
        {
          "data": {
            "text/html": [
              "<div>\n",
              "<style scoped>\n",
              "    .dataframe tbody tr th:only-of-type {\n",
              "        vertical-align: middle;\n",
              "    }\n",
              "\n",
              "    .dataframe tbody tr th {\n",
              "        vertical-align: top;\n",
              "    }\n",
              "\n",
              "    .dataframe thead th {\n",
              "        text-align: right;\n",
              "    }\n",
              "</style>\n",
              "<table border=\"1\" class=\"dataframe\">\n",
              "  <thead>\n",
              "    <tr style=\"text-align: right;\">\n",
              "      <th></th>\n",
              "      <th>Female</th>\n",
              "      <th>Male</th>\n",
              "      <th>Non-Binary</th>\n",
              "    </tr>\n",
              "  </thead>\n",
              "  <tbody>\n",
              "    <tr>\n",
              "      <th>0</th>\n",
              "      <td>0</td>\n",
              "      <td>1</td>\n",
              "      <td>0</td>\n",
              "    </tr>\n",
              "    <tr>\n",
              "      <th>1</th>\n",
              "      <td>0</td>\n",
              "      <td>1</td>\n",
              "      <td>0</td>\n",
              "    </tr>\n",
              "    <tr>\n",
              "      <th>2</th>\n",
              "      <td>0</td>\n",
              "      <td>1</td>\n",
              "      <td>0</td>\n",
              "    </tr>\n",
              "    <tr>\n",
              "      <th>3</th>\n",
              "      <td>0</td>\n",
              "      <td>1</td>\n",
              "      <td>0</td>\n",
              "    </tr>\n",
              "    <tr>\n",
              "      <th>4</th>\n",
              "      <td>0</td>\n",
              "      <td>1</td>\n",
              "      <td>0</td>\n",
              "    </tr>\n",
              "    <tr>\n",
              "      <th>...</th>\n",
              "      <td>...</td>\n",
              "      <td>...</td>\n",
              "      <td>...</td>\n",
              "    </tr>\n",
              "    <tr>\n",
              "      <th>595</th>\n",
              "      <td>1</td>\n",
              "      <td>0</td>\n",
              "      <td>0</td>\n",
              "    </tr>\n",
              "    <tr>\n",
              "      <th>596</th>\n",
              "      <td>1</td>\n",
              "      <td>0</td>\n",
              "      <td>0</td>\n",
              "    </tr>\n",
              "    <tr>\n",
              "      <th>597</th>\n",
              "      <td>1</td>\n",
              "      <td>0</td>\n",
              "      <td>0</td>\n",
              "    </tr>\n",
              "    <tr>\n",
              "      <th>598</th>\n",
              "      <td>1</td>\n",
              "      <td>0</td>\n",
              "      <td>0</td>\n",
              "    </tr>\n",
              "    <tr>\n",
              "      <th>599</th>\n",
              "      <td>0</td>\n",
              "      <td>1</td>\n",
              "      <td>0</td>\n",
              "    </tr>\n",
              "  </tbody>\n",
              "</table>\n",
              "<p>600 rows × 3 columns</p>\n",
              "</div>"
            ],
            "text/plain": [
              "     Female  Male  Non-Binary\n",
              "0         0     1           0\n",
              "1         0     1           0\n",
              "2         0     1           0\n",
              "3         0     1           0\n",
              "4         0     1           0\n",
              "..      ...   ...         ...\n",
              "595       1     0           0\n",
              "596       1     0           0\n",
              "597       1     0           0\n",
              "598       1     0           0\n",
              "599       0     1           0\n",
              "\n",
              "[600 rows x 3 columns]"
            ]
          },
          "execution_count": 48,
          "metadata": {},
          "output_type": "execute_result"
        }
      ],
      "source": [
        "#new_df = new_df.join(pd.get_dummies(copy['QB']),lsuffix = '_left', rsuffix = '_right')\n",
        "new_df"
      ]
    },
    {
      "cell_type": "code",
      "execution_count": null,
      "metadata": {
        "id": "PsTxbOYcsFbG"
      },
      "outputs": [],
      "source": [
        "nominal = ['QB','QC','Q10','QJ']\n",
        "for i in nominal:\n",
        "    new_df = new_df.join(pd.get_dummies(copy[i]),lsuffix = '_left', rsuffix = '_right')"
      ]
    },
    {
      "cell_type": "code",
      "execution_count": null,
      "metadata": {
        "id": "W_Lde4AEsFbH",
        "outputId": "10f3c767-d30c-42e3-de82-bdcc19c21fd2"
      },
      "outputs": [
        {
          "name": "stdout",
          "output_type": "stream",
          "text": [
            "<class 'pandas.core.frame.DataFrame'>\n",
            "RangeIndex: 600 entries, 0 to 599\n",
            "Data columns (total 41 columns):\n",
            " #   Column                                       Non-Null Count  Dtype\n",
            "---  ------                                       --------------  -----\n",
            " 0   Female                                       600 non-null    uint8\n",
            " 1   Male                                         600 non-null    uint8\n",
            " 2   Non-Binary                                   600 non-null    uint8\n",
            " 3   Big Data Engineer                            600 non-null    uint8\n",
            " 4   Data & Analytics Lead                        600 non-null    uint8\n",
            " 5   Data Architect                               600 non-null    uint8\n",
            " 6   Data Engineer                                600 non-null    uint8\n",
            " 7   Data Management Lead                         600 non-null    uint8\n",
            " 8   ETL Developer                                600 non-null    uint8\n",
            " 9   Enterprise Analytics Lead                    600 non-null    uint8\n",
            " 10  Enterprise Architect                         600 non-null    uint8\n",
            " 11  Other_left                                   600 non-null    uint8\n",
            " 12  Solutions Architect                          600 non-null    uint8\n",
            " 13  Mang-lvl                                     600 non-null    uint8\n",
            " 14  Non-mang                                     600 non-null    uint8\n",
            " 15  Multiple-times                               600 non-null    uint8\n",
            " 16  Never                                        600 non-null    uint8\n",
            " 17  one-time                                     600 non-null    uint8\n",
            " 18  Accounting                                   600 non-null    uint8\n",
            " 19  Automotive                                   600 non-null    uint8\n",
            " 20  Banking                                      600 non-null    uint8\n",
            " 21  Communications                               600 non-null    uint8\n",
            " 22  Construction                                 600 non-null    uint8\n",
            " 23  Consulting                                   600 non-null    uint8\n",
            " 24  Education                                    600 non-null    uint8\n",
            " 25  Energy                                       600 non-null    uint8\n",
            " 26  Entertainment                                600 non-null    uint8\n",
            " 27  Government / policy                          600 non-null    uint8\n",
            " 28  Healthcare / medicine / pharmaceuticals      600 non-null    uint8\n",
            " 29  Hospitality / restaurant / service industry  600 non-null    uint8\n",
            " 30  Information technology (IT) / software       600 non-null    uint8\n",
            " 31  Journalism / media / publishing              600 non-null    uint8\n",
            " 32  Law                                          600 non-null    uint8\n",
            " 33  Manufacturing                                600 non-null    uint8\n",
            " 34  Non-profit                                   600 non-null    uint8\n",
            " 35  Other_right                                  600 non-null    uint8\n",
            " 36  Real estate                                  600 non-null    uint8\n",
            " 37  Retail                                       600 non-null    uint8\n",
            " 38  Science / engineering                        600 non-null    uint8\n",
            " 39  Utilities                                    600 non-null    uint8\n",
            " 40  Wholesale                                    600 non-null    uint8\n",
            "dtypes: uint8(41)\n",
            "memory usage: 24.1 KB\n"
          ]
        }
      ],
      "source": [
        "new_df.info()"
      ]
    },
    {
      "cell_type": "code",
      "execution_count": null,
      "metadata": {
        "id": "GtdNWWnWsFbJ",
        "outputId": "2b548e84-5506-4284-cab9-dce7e8e9014d"
      },
      "outputs": [
        {
          "data": {
            "text/html": [
              "<div>\n",
              "<style scoped>\n",
              "    .dataframe tbody tr th:only-of-type {\n",
              "        vertical-align: middle;\n",
              "    }\n",
              "\n",
              "    .dataframe tbody tr th {\n",
              "        vertical-align: top;\n",
              "    }\n",
              "\n",
              "    .dataframe thead th {\n",
              "        text-align: right;\n",
              "    }\n",
              "</style>\n",
              "<table border=\"1\" class=\"dataframe\">\n",
              "  <thead>\n",
              "    <tr style=\"text-align: right;\">\n",
              "      <th></th>\n",
              "      <th>Big Data Engineer</th>\n",
              "      <th>Data &amp; Analytics Lead</th>\n",
              "      <th>Data Architect</th>\n",
              "      <th>Data Engineer</th>\n",
              "      <th>Data Management Lead</th>\n",
              "      <th>ETL Developer</th>\n",
              "      <th>Enterprise Analytics Lead</th>\n",
              "      <th>Enterprise Architect</th>\n",
              "      <th>Other</th>\n",
              "      <th>Solutions Architect</th>\n",
              "    </tr>\n",
              "  </thead>\n",
              "  <tbody>\n",
              "    <tr>\n",
              "      <th>0</th>\n",
              "      <td>0</td>\n",
              "      <td>0</td>\n",
              "      <td>0</td>\n",
              "      <td>0</td>\n",
              "      <td>0</td>\n",
              "      <td>1</td>\n",
              "      <td>0</td>\n",
              "      <td>0</td>\n",
              "      <td>0</td>\n",
              "      <td>0</td>\n",
              "    </tr>\n",
              "    <tr>\n",
              "      <th>1</th>\n",
              "      <td>0</td>\n",
              "      <td>0</td>\n",
              "      <td>0</td>\n",
              "      <td>0</td>\n",
              "      <td>0</td>\n",
              "      <td>0</td>\n",
              "      <td>0</td>\n",
              "      <td>1</td>\n",
              "      <td>0</td>\n",
              "      <td>0</td>\n",
              "    </tr>\n",
              "    <tr>\n",
              "      <th>2</th>\n",
              "      <td>0</td>\n",
              "      <td>1</td>\n",
              "      <td>0</td>\n",
              "      <td>0</td>\n",
              "      <td>0</td>\n",
              "      <td>0</td>\n",
              "      <td>0</td>\n",
              "      <td>0</td>\n",
              "      <td>0</td>\n",
              "      <td>0</td>\n",
              "    </tr>\n",
              "    <tr>\n",
              "      <th>3</th>\n",
              "      <td>0</td>\n",
              "      <td>0</td>\n",
              "      <td>0</td>\n",
              "      <td>0</td>\n",
              "      <td>0</td>\n",
              "      <td>0</td>\n",
              "      <td>1</td>\n",
              "      <td>0</td>\n",
              "      <td>0</td>\n",
              "      <td>0</td>\n",
              "    </tr>\n",
              "    <tr>\n",
              "      <th>4</th>\n",
              "      <td>0</td>\n",
              "      <td>1</td>\n",
              "      <td>0</td>\n",
              "      <td>0</td>\n",
              "      <td>0</td>\n",
              "      <td>0</td>\n",
              "      <td>0</td>\n",
              "      <td>0</td>\n",
              "      <td>0</td>\n",
              "      <td>0</td>\n",
              "    </tr>\n",
              "  </tbody>\n",
              "</table>\n",
              "</div>"
            ],
            "text/plain": [
              "   Big Data Engineer  Data & Analytics Lead  Data Architect  Data Engineer  \\\n",
              "0                  0                      0               0              0   \n",
              "1                  0                      0               0              0   \n",
              "2                  0                      1               0              0   \n",
              "3                  0                      0               0              0   \n",
              "4                  0                      1               0              0   \n",
              "\n",
              "   Data Management Lead  ETL Developer  Enterprise Analytics Lead  \\\n",
              "0                     0              1                          0   \n",
              "1                     0              0                          0   \n",
              "2                     0              0                          0   \n",
              "3                     0              0                          1   \n",
              "4                     0              0                          0   \n",
              "\n",
              "   Enterprise Architect  Other  Solutions Architect  \n",
              "0                     0      0                    0  \n",
              "1                     1      0                    0  \n",
              "2                     0      0                    0  \n",
              "3                     0      0                    0  \n",
              "4                     0      0                    0  "
            ]
          },
          "execution_count": 51,
          "metadata": {},
          "output_type": "execute_result"
        }
      ],
      "source": [
        "pd.get_dummies(copy['QB']).head()"
      ]
    },
    {
      "cell_type": "code",
      "execution_count": null,
      "metadata": {
        "id": "37Tq8LqDsFbJ",
        "outputId": "2558ce97-69d6-4462-b54e-319977419b31"
      },
      "outputs": [
        {
          "data": {
            "text/plain": [
              "Somewhat likely      263\n",
              "Very likely          154\n",
              "Not very likely      133\n",
              "Not at all likely     50\n",
              "Name: Q9, dtype: int64"
            ]
          },
          "execution_count": 52,
          "metadata": {},
          "output_type": "execute_result"
        }
      ],
      "source": [
        "copy['Q9'].value_counts()"
      ]
    },
    {
      "cell_type": "code",
      "execution_count": null,
      "metadata": {
        "id": "N5hrGVlTsFbK"
      },
      "outputs": [],
      "source": [
        "copy['Q9'] = copy['Q9'].map(\n",
        "    {'Not at all likely':0, \n",
        "     'Not very likely':1,\n",
        "     'Somewhat likely':2,\n",
        "     'Very likely':3 }) "
      ]
    },
    {
      "cell_type": "code",
      "execution_count": null,
      "metadata": {
        "id": "aSz_zHaJk0q4"
      },
      "outputs": [],
      "source": [
        "num_features = ['AGE', 'Q3','Q4','QE','QF','QG']\n",
        "ordinal = ['EDUCATION','Q6','Q9']"
      ]
    },
    {
      "cell_type": "code",
      "execution_count": null,
      "metadata": {
        "id": "3peq7C3XsFbL"
      },
      "outputs": [],
      "source": [
        "for i in num_features:\n",
        "    new_df = new_df.join(copy[i],lsuffix = '_left', rsuffix = '_right')"
      ]
    },
    {
      "cell_type": "code",
      "execution_count": null,
      "metadata": {
        "id": "hKRjwIsnsFbM"
      },
      "outputs": [],
      "source": [
        "for i in ordinal:\n",
        "    new_df = new_df.join(copy[i],lsuffix = '_left', rsuffix = '_right')"
      ]
    },
    {
      "cell_type": "markdown",
      "metadata": {
        "id": "sH67QcXvh3jv"
      },
      "source": [
        "## Q3: What other factors influnce burning-out?\n"
      ]
    },
    {
      "cell_type": "code",
      "execution_count": null,
      "metadata": {
        "id": "TcUEdLnRsFbO",
        "outputId": "e12debe8-588b-4994-842c-2a823153130e"
      },
      "outputs": [
        {
          "data": {
            "image/png": "[encoded data removed]",
            "text/plain": [
              "<Figure size 1800x1080 with 2 Axes>"
            ]
          },
          "metadata": {},
          "output_type": "display_data"
        }
      ],
      "source": [
        "plt.figure(figsize=(25,15))\n",
        "sns.heatmap(new_df.corr() > 0.1, vmin = 0 , vmax = 1.0, cmap = 'viridis')\n",
        "plt.savefig('co-matrix.png', dpi=800, format='png',bbox_inches='tight')"
      ]
    },
    {
      "cell_type": "markdown",
      "metadata": {
        "id": "9bCz9TlxsFbO"
      },
      "source": [
        "Insights from the above correlation matrix:\n",
        "- Those who are in Manegerial roles are mostly burnt-out\n",
        "- Those who are in Manegerial roles have thoughts about leaving thier jobs multiple times\n",
        "- Those who works at Accounting and IT industries/sectors are more anxious"
      ]
    },
    {
      "cell_type": "code",
      "execution_count": null,
      "metadata": {
        "id": "f_GD88SRsFbP",
        "outputId": "26ff53a0-866d-4660-894b-e2759f7b54a3"
      },
      "outputs": [
        {
          "data": {
            "text/html": [
              "<div>\n",
              "<style scoped>\n",
              "    .dataframe tbody tr th:only-of-type {\n",
              "        vertical-align: middle;\n",
              "    }\n",
              "\n",
              "    .dataframe tbody tr th {\n",
              "        vertical-align: top;\n",
              "    }\n",
              "\n",
              "    .dataframe thead th {\n",
              "        text-align: right;\n",
              "    }\n",
              "</style>\n",
              "<table border=\"1\" class=\"dataframe\">\n",
              "  <thead>\n",
              "    <tr style=\"text-align: right;\">\n",
              "      <th></th>\n",
              "      <th>Accounting</th>\n",
              "      <th>Automotive</th>\n",
              "      <th>Banking</th>\n",
              "      <th>Communications</th>\n",
              "      <th>Construction</th>\n",
              "      <th>Consulting</th>\n",
              "      <th>Education</th>\n",
              "      <th>Energy</th>\n",
              "      <th>Entertainment</th>\n",
              "      <th>Government / policy</th>\n",
              "      <th>...</th>\n",
              "      <th>Law</th>\n",
              "      <th>Manufacturing</th>\n",
              "      <th>Non-profit</th>\n",
              "      <th>Other</th>\n",
              "      <th>Real estate</th>\n",
              "      <th>Retail</th>\n",
              "      <th>Science / engineering</th>\n",
              "      <th>Utilities</th>\n",
              "      <th>Wholesale</th>\n",
              "      <th>Q6</th>\n",
              "    </tr>\n",
              "  </thead>\n",
              "  <tbody>\n",
              "    <tr>\n",
              "      <th>0</th>\n",
              "      <td>0</td>\n",
              "      <td>0</td>\n",
              "      <td>0</td>\n",
              "      <td>0</td>\n",
              "      <td>0</td>\n",
              "      <td>0</td>\n",
              "      <td>0</td>\n",
              "      <td>0</td>\n",
              "      <td>0</td>\n",
              "      <td>0</td>\n",
              "      <td>...</td>\n",
              "      <td>0</td>\n",
              "      <td>0</td>\n",
              "      <td>0</td>\n",
              "      <td>0</td>\n",
              "      <td>0</td>\n",
              "      <td>0</td>\n",
              "      <td>0</td>\n",
              "      <td>0</td>\n",
              "      <td>0</td>\n",
              "      <td>3</td>\n",
              "    </tr>\n",
              "    <tr>\n",
              "      <th>1</th>\n",
              "      <td>0</td>\n",
              "      <td>0</td>\n",
              "      <td>1</td>\n",
              "      <td>0</td>\n",
              "      <td>0</td>\n",
              "      <td>0</td>\n",
              "      <td>0</td>\n",
              "      <td>0</td>\n",
              "      <td>0</td>\n",
              "      <td>0</td>\n",
              "      <td>...</td>\n",
              "      <td>0</td>\n",
              "      <td>0</td>\n",
              "      <td>0</td>\n",
              "      <td>0</td>\n",
              "      <td>0</td>\n",
              "      <td>0</td>\n",
              "      <td>0</td>\n",
              "      <td>0</td>\n",
              "      <td>0</td>\n",
              "      <td>4</td>\n",
              "    </tr>\n",
              "    <tr>\n",
              "      <th>2</th>\n",
              "      <td>0</td>\n",
              "      <td>0</td>\n",
              "      <td>0</td>\n",
              "      <td>0</td>\n",
              "      <td>0</td>\n",
              "      <td>0</td>\n",
              "      <td>0</td>\n",
              "      <td>0</td>\n",
              "      <td>0</td>\n",
              "      <td>0</td>\n",
              "      <td>...</td>\n",
              "      <td>0</td>\n",
              "      <td>0</td>\n",
              "      <td>0</td>\n",
              "      <td>0</td>\n",
              "      <td>0</td>\n",
              "      <td>0</td>\n",
              "      <td>0</td>\n",
              "      <td>0</td>\n",
              "      <td>0</td>\n",
              "      <td>4</td>\n",
              "    </tr>\n",
              "    <tr>\n",
              "      <th>3</th>\n",
              "      <td>0</td>\n",
              "      <td>0</td>\n",
              "      <td>0</td>\n",
              "      <td>0</td>\n",
              "      <td>0</td>\n",
              "      <td>0</td>\n",
              "      <td>0</td>\n",
              "      <td>0</td>\n",
              "      <td>0</td>\n",
              "      <td>0</td>\n",
              "      <td>...</td>\n",
              "      <td>0</td>\n",
              "      <td>0</td>\n",
              "      <td>0</td>\n",
              "      <td>0</td>\n",
              "      <td>0</td>\n",
              "      <td>0</td>\n",
              "      <td>0</td>\n",
              "      <td>0</td>\n",
              "      <td>0</td>\n",
              "      <td>4</td>\n",
              "    </tr>\n",
              "    <tr>\n",
              "      <th>4</th>\n",
              "      <td>0</td>\n",
              "      <td>0</td>\n",
              "      <td>1</td>\n",
              "      <td>0</td>\n",
              "      <td>0</td>\n",
              "      <td>0</td>\n",
              "      <td>0</td>\n",
              "      <td>0</td>\n",
              "      <td>0</td>\n",
              "      <td>0</td>\n",
              "      <td>...</td>\n",
              "      <td>0</td>\n",
              "      <td>0</td>\n",
              "      <td>0</td>\n",
              "      <td>0</td>\n",
              "      <td>0</td>\n",
              "      <td>0</td>\n",
              "      <td>0</td>\n",
              "      <td>0</td>\n",
              "      <td>0</td>\n",
              "      <td>3</td>\n",
              "    </tr>\n",
              "    <tr>\n",
              "      <th>...</th>\n",
              "      <td>...</td>\n",
              "      <td>...</td>\n",
              "      <td>...</td>\n",
              "      <td>...</td>\n",
              "      <td>...</td>\n",
              "      <td>...</td>\n",
              "      <td>...</td>\n",
              "      <td>...</td>\n",
              "      <td>...</td>\n",
              "      <td>...</td>\n",
              "      <td>...</td>\n",
              "      <td>...</td>\n",
              "      <td>...</td>\n",
              "      <td>...</td>\n",
              "      <td>...</td>\n",
              "      <td>...</td>\n",
              "      <td>...</td>\n",
              "      <td>...</td>\n",
              "      <td>...</td>\n",
              "      <td>...</td>\n",
              "      <td>...</td>\n",
              "    </tr>\n",
              "    <tr>\n",
              "      <th>595</th>\n",
              "      <td>0</td>\n",
              "      <td>0</td>\n",
              "      <td>0</td>\n",
              "      <td>0</td>\n",
              "      <td>0</td>\n",
              "      <td>0</td>\n",
              "      <td>0</td>\n",
              "      <td>1</td>\n",
              "      <td>0</td>\n",
              "      <td>0</td>\n",
              "      <td>...</td>\n",
              "      <td>0</td>\n",
              "      <td>0</td>\n",
              "      <td>0</td>\n",
              "      <td>0</td>\n",
              "      <td>0</td>\n",
              "      <td>0</td>\n",
              "      <td>0</td>\n",
              "      <td>0</td>\n",
              "      <td>0</td>\n",
              "      <td>3</td>\n",
              "    </tr>\n",
              "    <tr>\n",
              "      <th>596</th>\n",
              "      <td>0</td>\n",
              "      <td>0</td>\n",
              "      <td>0</td>\n",
              "      <td>0</td>\n",
              "      <td>0</td>\n",
              "      <td>1</td>\n",
              "      <td>0</td>\n",
              "      <td>0</td>\n",
              "      <td>0</td>\n",
              "      <td>0</td>\n",
              "      <td>...</td>\n",
              "      <td>0</td>\n",
              "      <td>0</td>\n",
              "      <td>0</td>\n",
              "      <td>0</td>\n",
              "      <td>0</td>\n",
              "      <td>0</td>\n",
              "      <td>0</td>\n",
              "      <td>0</td>\n",
              "      <td>0</td>\n",
              "      <td>3</td>\n",
              "    </tr>\n",
              "    <tr>\n",
              "      <th>597</th>\n",
              "      <td>0</td>\n",
              "      <td>0</td>\n",
              "      <td>0</td>\n",
              "      <td>0</td>\n",
              "      <td>0</td>\n",
              "      <td>0</td>\n",
              "      <td>0</td>\n",
              "      <td>0</td>\n",
              "      <td>0</td>\n",
              "      <td>0</td>\n",
              "      <td>...</td>\n",
              "      <td>0</td>\n",
              "      <td>0</td>\n",
              "      <td>0</td>\n",
              "      <td>0</td>\n",
              "      <td>0</td>\n",
              "      <td>1</td>\n",
              "      <td>0</td>\n",
              "      <td>0</td>\n",
              "      <td>0</td>\n",
              "      <td>3</td>\n",
              "    </tr>\n",
              "    <tr>\n",
              "      <th>598</th>\n",
              "      <td>1</td>\n",
              "      <td>0</td>\n",
              "      <td>0</td>\n",
              "      <td>0</td>\n",
              "      <td>0</td>\n",
              "      <td>0</td>\n",
              "      <td>0</td>\n",
              "      <td>0</td>\n",
              "      <td>0</td>\n",
              "      <td>0</td>\n",
              "      <td>...</td>\n",
              "      <td>0</td>\n",
              "      <td>0</td>\n",
              "      <td>0</td>\n",
              "      <td>0</td>\n",
              "      <td>0</td>\n",
              "      <td>0</td>\n",
              "      <td>0</td>\n",
              "      <td>0</td>\n",
              "      <td>0</td>\n",
              "      <td>3</td>\n",
              "    </tr>\n",
              "    <tr>\n",
              "      <th>599</th>\n",
              "      <td>0</td>\n",
              "      <td>0</td>\n",
              "      <td>0</td>\n",
              "      <td>0</td>\n",
              "      <td>0</td>\n",
              "      <td>0</td>\n",
              "      <td>0</td>\n",
              "      <td>0</td>\n",
              "      <td>0</td>\n",
              "      <td>0</td>\n",
              "      <td>...</td>\n",
              "      <td>0</td>\n",
              "      <td>0</td>\n",
              "      <td>0</td>\n",
              "      <td>0</td>\n",
              "      <td>0</td>\n",
              "      <td>0</td>\n",
              "      <td>0</td>\n",
              "      <td>0</td>\n",
              "      <td>0</td>\n",
              "      <td>4</td>\n",
              "    </tr>\n",
              "  </tbody>\n",
              "</table>\n",
              "<p>600 rows × 24 columns</p>\n",
              "</div>"
            ],
            "text/plain": [
              "     Accounting  Automotive  Banking  Communications  Construction  \\\n",
              "0             0           0        0               0             0   \n",
              "1             0           0        1               0             0   \n",
              "2             0           0        0               0             0   \n",
              "3             0           0        0               0             0   \n",
              "4             0           0        1               0             0   \n",
              "..          ...         ...      ...             ...           ...   \n",
              "595           0           0        0               0             0   \n",
              "596           0           0        0               0             0   \n",
              "597           0           0        0               0             0   \n",
              "598           1           0        0               0             0   \n",
              "599           0           0        0               0             0   \n",
              "\n",
              "     Consulting  Education  Energy  Entertainment  Government / policy  ...  \\\n",
              "0             0          0       0              0                    0  ...   \n",
              "1             0          0       0              0                    0  ...   \n",
              "2             0          0       0              0                    0  ...   \n",
              "3             0          0       0              0                    0  ...   \n",
              "4             0          0       0              0                    0  ...   \n",
              "..          ...        ...     ...            ...                  ...  ...   \n",
              "595           0          0       1              0                    0  ...   \n",
              "596           1          0       0              0                    0  ...   \n",
              "597           0          0       0              0                    0  ...   \n",
              "598           0          0       0              0                    0  ...   \n",
              "599           0          0       0              0                    0  ...   \n",
              "\n",
              "     Law  Manufacturing  Non-profit  Other  Real estate  Retail  \\\n",
              "0      0              0           0      0            0       0   \n",
              "1      0              0           0      0            0       0   \n",
              "2      0              0           0      0            0       0   \n",
              "3      0              0           0      0            0       0   \n",
              "4      0              0           0      0            0       0   \n",
              "..   ...            ...         ...    ...          ...     ...   \n",
              "595    0              0           0      0            0       0   \n",
              "596    0              0           0      0            0       0   \n",
              "597    0              0           0      0            0       1   \n",
              "598    0              0           0      0            0       0   \n",
              "599    0              0           0      0            0       0   \n",
              "\n",
              "     Science / engineering  Utilities  Wholesale  Q6  \n",
              "0                        0          0          0   3  \n",
              "1                        0          0          0   4  \n",
              "2                        0          0          0   4  \n",
              "3                        0          0          0   4  \n",
              "4                        0          0          0   3  \n",
              "..                     ...        ...        ...  ..  \n",
              "595                      0          0          0   3  \n",
              "596                      0          0          0   3  \n",
              "597                      0          0          0   3  \n",
              "598                      0          0          0   3  \n",
              "599                      0          0          0   4  \n",
              "\n",
              "[600 rows x 24 columns]"
            ]
          },
          "execution_count": 58,
          "metadata": {},
          "output_type": "execute_result"
        }
      ],
      "source": [
        "sectors = pd.get_dummies(copy['QJ'])\n",
        "sectors = sectors.join(copy['Q6'],lsuffix = '_left', rsuffix = '_right')\n",
        "sectors"
      ]
    },
    {
      "cell_type": "code",
      "execution_count": null,
      "metadata": {
        "id": "zndnNM-_sFbQ"
      },
      "outputs": [],
      "source": []
    },
    {
      "cell_type": "code",
      "execution_count": null,
      "metadata": {
        "id": "my4EobsysFbR",
        "outputId": "0a15ffc4-d71f-45c9-efb8-a5d6c349a643"
      },
      "outputs": [
        {
          "data": {
            "text/plain": [
              "QJ\n",
              "Non-profit                                     2.500000\n",
              "Wholesale                                      2.592593\n",
              "Real estate                                    2.636364\n",
              "Energy                                         2.750000\n",
              "Healthcare / medicine / pharmaceuticals        2.833333\n",
              "Construction                                   2.838710\n",
              "Education                                      2.842105\n",
              "Science / engineering                          2.857143\n",
              "Communications                                 2.869565\n",
              "Automotive                                     2.920000\n",
              "Entertainment                                  2.937500\n",
              "Utilities                                      3.000000\n",
              "Law                                            3.000000\n",
              "Retail                                         3.025000\n",
              "Manufacturing                                  3.066667\n",
              "Hospitality / restaurant / service industry    3.076923\n",
              "Banking                                        3.157895\n",
              "Consulting                                     3.217391\n",
              "Journalism / media / publishing                3.222222\n",
              "Government / policy                            3.333333\n",
              "Information technology (IT) / software         3.439560\n",
              "Accounting                                     3.629630\n",
              "Other                                          3.666667\n",
              "Name: Q6, dtype: float64"
            ]
          },
          "execution_count": 59,
          "metadata": {},
          "output_type": "execute_result"
        }
      ],
      "source": [
        "copy.groupby(['QJ']).mean()['Q6'].sort_values().dropna()"
      ]
    },
    {
      "cell_type": "code",
      "execution_count": null,
      "metadata": {
        "id": "GPFLIVujsFbS"
      },
      "outputs": [],
      "source": [
        "copy['QF'] = np.where(copy['QF'] == 'Less than one year', 0, copy['QF'])"
      ]
    },
    {
      "cell_type": "code",
      "execution_count": null,
      "metadata": {
        "id": "I34CyFvCsFbS"
      },
      "outputs": [],
      "source": [
        "copy['QF'] = copy['QF'].astype(np.int64)"
      ]
    },
    {
      "cell_type": "code",
      "execution_count": null,
      "metadata": {
        "id": "TMatlkhXsFbU",
        "outputId": "e42323c5-96f3-477f-8329-ae85fd0ba37f"
      },
      "outputs": [
        {
          "data": {
            "text/plain": [
              "6.815"
            ]
          },
          "execution_count": 62,
          "metadata": {},
          "output_type": "execute_result"
        }
      ],
      "source": [
        "copy['QF'].mean()"
      ]
    },
    {
      "cell_type": "markdown",
      "source": [
        "Do year of experince has an influence?"
      ],
      "metadata": {
        "id": "NiybNgH-5t8L"
      }
    },
    {
      "cell_type": "code",
      "execution_count": null,
      "metadata": {
        "id": "ffa6aC8gsFbV",
        "outputId": "42b6642a-088d-40c6-9237-fcfa3243f586"
      },
      "outputs": [
        {
          "data": {
            "text/plain": [
              "<seaborn.axisgrid.JointGrid at 0x19a4f0a8fa0>"
            ]
          },
          "execution_count": 63,
          "metadata": {},
          "output_type": "execute_result"
        },
        {
          "data": {
            "image/png": "[encoded data removed]",
            "text/plain": [
              "<Figure size 432x432 with 3 Axes>"
            ]
          },
          "metadata": {},
          "output_type": "display_data"
        }
      ],
      "source": [
        "sns.jointplot(data=copy, x=\"QF\", y=\"Q9\")"
      ]
    },
    {
      "cell_type": "markdown",
      "metadata": {
        "id": "9SOvbAVgsFbX"
      },
      "source": [
        "The data doesn't tell us much"
      ]
    },
    {
      "cell_type": "markdown",
      "source": [
        "## Results \n"
      ],
      "metadata": {
        "id": "_9A3DU4055Ux"
      }
    },
    {
      "cell_type": "markdown",
      "source": [
        "The following insights were drawn from this notebook:\n",
        "1. Other than managing pipelines and errors, stress is not related to the job itself but is instead related to the stakeholders’ quick and unreasonable requests.\n",
        "2. Bigger companies that have more than 300 employees do actually make data engineers feel more anxious compared to small and mid-sized companies.\n",
        "3. Those who are in managerial/leading roles are mostly burned out.\n",
        "4. Those who are in managerial/leading have thought about leaving their jobs multiple times.\n",
        "5. Those who work in the accounting and IT industries are more anxious compared to other industries."
      ],
      "metadata": {
        "id": "fTG_k0bbL9vu"
      }
    }
  ],
  "metadata": {
    "colab": {
      "provenance": [],
      "toc_visible": true
    },
    "kernelspec": {
      "display_name": "Python 3 (ipykernel)",
      "language": "python",
      "name": "python3"
    },
    "language_info": {
      "codemirror_mode": {
        "name": "ipython",
        "version": 3
      },
      "file_extension": ".py",
      "mimetype": "text/x-python",
      "name": "python",
      "nbconvert_exporter": "python",
      "pygments_lexer": "ipython3",
      "version": "3.9.12"
    }
  },
  "nbformat": 4,
  "nbformat_minor": 0
}