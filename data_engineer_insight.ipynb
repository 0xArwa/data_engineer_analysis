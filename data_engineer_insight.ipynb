{
  "nbformat": 4,
  "nbformat_minor": 0,
  "metadata": {
    "colab": {
      "provenance": []
    },
    "kernelspec": {
      "name": "python3",
      "display_name": "Python 3"
    },
    "language_info": {
      "name": "python"
    }
  },
  "cells": [
    {
      "cell_type": "code",
      "execution_count": 1,
      "metadata": {
        "id": "r1Z6Rcr5-zk6"
      },
      "outputs": [],
      "source": [
        "import numpy as np\n",
        "import pandas as pd\n",
        "import matplotlib.pyplot as plt\n",
        "%matplotlib inline"
      ]
    },
    {
      "cell_type": "code",
      "source": [
        "df = pd.read_csv('2021-data-engineer-survey-results.csv')\n",
        "schema = pd.read_csv('2021-data-engineer-survey-questions.csv', encoding=\"cp1252\")\n",
        "df.head()"
      ],
      "metadata": {
        "colab": {
          "base_uri": "https://localhost:8080/",
          "height": 803
        },
        "id": "nvibtlno_mef",
        "outputId": "69c10e14-e960-4877-999d-b2dd2c1e788d"
      },
      "execution_count": 3,
      "outputs": [
        {
          "output_type": "execute_result",
          "data": {
            "text/plain": [
              "  GENDER  AGE         EMPLOYMENT      STATE   REGION  \\\n",
              "0   Male   39  \\tWork full-time   Wisconsin  Midwest   \n",
              "1   Male   39  \\tWork full-time     Florida    South   \n",
              "2   Male   34  \\tWork full-time     Florida    South   \n",
              "3   Male   38  \\tWork full-time   Wisconsin  Midwest   \n",
              "4   Male   39  \\tWork full-time     Georgia    South   \n",
              "\n",
              "                          EDUCATION  \\\n",
              "0  \\tGraduate or post-graduate work   \n",
              "1               \\tBachelor’s degree   \n",
              "2  \\tGraduate or post-graduate work   \n",
              "3  \\tGraduate or post-graduate work   \n",
              "4  \\tGraduate or post-graduate work   \n",
              "\n",
              "                                               QA_M1  \\\n",
              "0  Maintain the distributed systems that execute ...   \n",
              "1  Develop, maintain, and optimize data systems t...   \n",
              "2                              Create data pipelines   \n",
              "3  Maintain the distributed systems that execute ...   \n",
              "4  Manage continuous integration and continuous d...   \n",
              "\n",
              "                                               QA_M2  \\\n",
              "0  Develop, maintain, and optimize data systems t...   \n",
              "1  Maintain the distributed systems that execute ...   \n",
              "2  Develop, maintain, and optimize data systems t...   \n",
              "3              Maintain data in ready-to-use formats   \n",
              "4  Maintain the distributed systems that execute ...   \n",
              "\n",
              "                                               QA_M3  \\\n",
              "0  Ensure that the data architecture will scale a...   \n",
              "1                                Write and test code   \n",
              "2  Write tests to ensure that bad data is detecte...   \n",
              "3  Manage continuous integration and continuous d...   \n",
              "4              Maintain data in ready-to-use formats   \n",
              "\n",
              "                                               QA_M4  ...  \\\n",
              "0                                Write and test code  ...   \n",
              "1  Manage continuous integration and continuous d...  ...   \n",
              "2  Maintain the distributed systems that execute ...  ...   \n",
              "3                                                NaN  ...   \n",
              "4  Develop, maintain, and optimize data systems t...  ...   \n",
              "\n",
              "                                     Q14_M3 Q14_M4 Q14_M5             Q15  QE  \\\n",
              "0                                       NaN    NaN    NaN  Agree somewhat  10   \n",
              "1  Lack of knowledge around what DataOps is    NaN    NaN  Agree somewhat   5   \n",
              "2                                       NaN    NaN    NaN  Agree strongly  10   \n",
              "3                                       NaN    NaN    NaN  Agree strongly  18   \n",
              "4                                       NaN    NaN    NaN  Agree somewhat   6   \n",
              "\n",
              "   QF  QG    QH                                  QI  \\\n",
              "0  10  11  1500   $50 Million to under $100 Million   \n",
              "1  10  50  2000    $10 Million to under $25 Million   \n",
              "2  15  20    20                  $1 Billion or more   \n",
              "3  18  45   250  $100 Million to under $250 Million   \n",
              "4   7  10   999  $250 Million to under $500 Million   \n",
              "\n",
              "                                       QJ  \n",
              "0  Information technology (IT) / software  \n",
              "1                                 Banking  \n",
              "2  Information technology (IT) / software  \n",
              "3  Information technology (IT) / software  \n",
              "4                                 Banking  \n",
              "\n",
              "[5 rows x 46 columns]"
            ],
            "text/html": [
              "\n",
              "  <div id=\"df-3639b5e8-71d7-4049-a3a1-13bae2b1f8fa\">\n",
              "    <div class=\"colab-df-container\">\n",
              "      <div>\n",
              "<style scoped>\n",
              "    .dataframe tbody tr th:only-of-type {\n",
              "        vertical-align: middle;\n",
              "    }\n",
              "\n",
              "    .dataframe tbody tr th {\n",
              "        vertical-align: top;\n",
              "    }\n",
              "\n",
              "    .dataframe thead th {\n",
              "        text-align: right;\n",
              "    }\n",
              "</style>\n",
              "<table border=\"1\" class=\"dataframe\">\n",
              "  <thead>\n",
              "    <tr style=\"text-align: right;\">\n",
              "      <th></th>\n",
              "      <th>GENDER</th>\n",
              "      <th>AGE</th>\n",
              "      <th>EMPLOYMENT</th>\n",
              "      <th>STATE</th>\n",
              "      <th>REGION</th>\n",
              "      <th>EDUCATION</th>\n",
              "      <th>QA_M1</th>\n",
              "      <th>QA_M2</th>\n",
              "      <th>QA_M3</th>\n",
              "      <th>QA_M4</th>\n",
              "      <th>...</th>\n",
              "      <th>Q14_M3</th>\n",
              "      <th>Q14_M4</th>\n",
              "      <th>Q14_M5</th>\n",
              "      <th>Q15</th>\n",
              "      <th>QE</th>\n",
              "      <th>QF</th>\n",
              "      <th>QG</th>\n",
              "      <th>QH</th>\n",
              "      <th>QI</th>\n",
              "      <th>QJ</th>\n",
              "    </tr>\n",
              "  </thead>\n",
              "  <tbody>\n",
              "    <tr>\n",
              "      <th>0</th>\n",
              "      <td>Male</td>\n",
              "      <td>39</td>\n",
              "      <td>\\tWork full-time</td>\n",
              "      <td>Wisconsin</td>\n",
              "      <td>Midwest</td>\n",
              "      <td>\\tGraduate or post-graduate work</td>\n",
              "      <td>Maintain the distributed systems that execute ...</td>\n",
              "      <td>Develop, maintain, and optimize data systems t...</td>\n",
              "      <td>Ensure that the data architecture will scale a...</td>\n",
              "      <td>Write and test code</td>\n",
              "      <td>...</td>\n",
              "      <td>NaN</td>\n",
              "      <td>NaN</td>\n",
              "      <td>NaN</td>\n",
              "      <td>Agree somewhat</td>\n",
              "      <td>10</td>\n",
              "      <td>10</td>\n",
              "      <td>11</td>\n",
              "      <td>1500</td>\n",
              "      <td>$50 Million to under $100 Million</td>\n",
              "      <td>Information technology (IT) / software</td>\n",
              "    </tr>\n",
              "    <tr>\n",
              "      <th>1</th>\n",
              "      <td>Male</td>\n",
              "      <td>39</td>\n",
              "      <td>\\tWork full-time</td>\n",
              "      <td>Florida</td>\n",
              "      <td>South</td>\n",
              "      <td>\\tBachelor’s degree</td>\n",
              "      <td>Develop, maintain, and optimize data systems t...</td>\n",
              "      <td>Maintain the distributed systems that execute ...</td>\n",
              "      <td>Write and test code</td>\n",
              "      <td>Manage continuous integration and continuous d...</td>\n",
              "      <td>...</td>\n",
              "      <td>Lack of knowledge around what DataOps is</td>\n",
              "      <td>NaN</td>\n",
              "      <td>NaN</td>\n",
              "      <td>Agree somewhat</td>\n",
              "      <td>5</td>\n",
              "      <td>10</td>\n",
              "      <td>50</td>\n",
              "      <td>2000</td>\n",
              "      <td>$10 Million to under $25 Million</td>\n",
              "      <td>Banking</td>\n",
              "    </tr>\n",
              "    <tr>\n",
              "      <th>2</th>\n",
              "      <td>Male</td>\n",
              "      <td>34</td>\n",
              "      <td>\\tWork full-time</td>\n",
              "      <td>Florida</td>\n",
              "      <td>South</td>\n",
              "      <td>\\tGraduate or post-graduate work</td>\n",
              "      <td>Create data pipelines</td>\n",
              "      <td>Develop, maintain, and optimize data systems t...</td>\n",
              "      <td>Write tests to ensure that bad data is detecte...</td>\n",
              "      <td>Maintain the distributed systems that execute ...</td>\n",
              "      <td>...</td>\n",
              "      <td>NaN</td>\n",
              "      <td>NaN</td>\n",
              "      <td>NaN</td>\n",
              "      <td>Agree strongly</td>\n",
              "      <td>10</td>\n",
              "      <td>15</td>\n",
              "      <td>20</td>\n",
              "      <td>20</td>\n",
              "      <td>$1 Billion or more</td>\n",
              "      <td>Information technology (IT) / software</td>\n",
              "    </tr>\n",
              "    <tr>\n",
              "      <th>3</th>\n",
              "      <td>Male</td>\n",
              "      <td>38</td>\n",
              "      <td>\\tWork full-time</td>\n",
              "      <td>Wisconsin</td>\n",
              "      <td>Midwest</td>\n",
              "      <td>\\tGraduate or post-graduate work</td>\n",
              "      <td>Maintain the distributed systems that execute ...</td>\n",
              "      <td>Maintain data in ready-to-use formats</td>\n",
              "      <td>Manage continuous integration and continuous d...</td>\n",
              "      <td>NaN</td>\n",
              "      <td>...</td>\n",
              "      <td>NaN</td>\n",
              "      <td>NaN</td>\n",
              "      <td>NaN</td>\n",
              "      <td>Agree strongly</td>\n",
              "      <td>18</td>\n",
              "      <td>18</td>\n",
              "      <td>45</td>\n",
              "      <td>250</td>\n",
              "      <td>$100 Million to under $250 Million</td>\n",
              "      <td>Information technology (IT) / software</td>\n",
              "    </tr>\n",
              "    <tr>\n",
              "      <th>4</th>\n",
              "      <td>Male</td>\n",
              "      <td>39</td>\n",
              "      <td>\\tWork full-time</td>\n",
              "      <td>Georgia</td>\n",
              "      <td>South</td>\n",
              "      <td>\\tGraduate or post-graduate work</td>\n",
              "      <td>Manage continuous integration and continuous d...</td>\n",
              "      <td>Maintain the distributed systems that execute ...</td>\n",
              "      <td>Maintain data in ready-to-use formats</td>\n",
              "      <td>Develop, maintain, and optimize data systems t...</td>\n",
              "      <td>...</td>\n",
              "      <td>NaN</td>\n",
              "      <td>NaN</td>\n",
              "      <td>NaN</td>\n",
              "      <td>Agree somewhat</td>\n",
              "      <td>6</td>\n",
              "      <td>7</td>\n",
              "      <td>10</td>\n",
              "      <td>999</td>\n",
              "      <td>$250 Million to under $500 Million</td>\n",
              "      <td>Banking</td>\n",
              "    </tr>\n",
              "  </tbody>\n",
              "</table>\n",
              "<p>5 rows × 46 columns</p>\n",
              "</div>\n",
              "      <button class=\"colab-df-convert\" onclick=\"convertToInteractive('df-3639b5e8-71d7-4049-a3a1-13bae2b1f8fa')\"\n",
              "              title=\"Convert this dataframe to an interactive table.\"\n",
              "              style=\"display:none;\">\n",
              "        \n",
              "  <svg xmlns=\"http://www.w3.org/2000/svg\" height=\"24px\"viewBox=\"0 0 24 24\"\n",
              "       width=\"24px\">\n",
              "    <path d=\"M0 0h24v24H0V0z\" fill=\"none\"/>\n",
              "    <path d=\"M18.56 5.44l.94 2.06.94-2.06 2.06-.94-2.06-.94-.94-2.06-.94 2.06-2.06.94zm-11 1L8.5 8.5l.94-2.06 2.06-.94-2.06-.94L8.5 2.5l-.94 2.06-2.06.94zm10 10l.94 2.06.94-2.06 2.06-.94-2.06-.94-.94-2.06-.94 2.06-2.06.94z\"/><path d=\"M17.41 7.96l-1.37-1.37c-.4-.4-.92-.59-1.43-.59-.52 0-1.04.2-1.43.59L10.3 9.45l-7.72 7.72c-.78.78-.78 2.05 0 2.83L4 21.41c.39.39.9.59 1.41.59.51 0 1.02-.2 1.41-.59l7.78-7.78 2.81-2.81c.8-.78.8-2.07 0-2.86zM5.41 20L4 18.59l7.72-7.72 1.47 1.35L5.41 20z\"/>\n",
              "  </svg>\n",
              "      </button>\n",
              "      \n",
              "  <style>\n",
              "    .colab-df-container {\n",
              "      display:flex;\n",
              "      flex-wrap:wrap;\n",
              "      gap: 12px;\n",
              "    }\n",
              "\n",
              "    .colab-df-convert {\n",
              "      background-color: #E8F0FE;\n",
              "      border: none;\n",
              "      border-radius: 50%;\n",
              "      cursor: pointer;\n",
              "      display: none;\n",
              "      fill: #1967D2;\n",
              "      height: 32px;\n",
              "      padding: 0 0 0 0;\n",
              "      width: 32px;\n",
              "    }\n",
              "\n",
              "    .colab-df-convert:hover {\n",
              "      background-color: #E2EBFA;\n",
              "      box-shadow: 0px 1px 2px rgba(60, 64, 67, 0.3), 0px 1px 3px 1px rgba(60, 64, 67, 0.15);\n",
              "      fill: #174EA6;\n",
              "    }\n",
              "\n",
              "    [theme=dark] .colab-df-convert {\n",
              "      background-color: #3B4455;\n",
              "      fill: #D2E3FC;\n",
              "    }\n",
              "\n",
              "    [theme=dark] .colab-df-convert:hover {\n",
              "      background-color: #434B5C;\n",
              "      box-shadow: 0px 1px 3px 1px rgba(0, 0, 0, 0.15);\n",
              "      filter: drop-shadow(0px 1px 2px rgba(0, 0, 0, 0.3));\n",
              "      fill: #FFFFFF;\n",
              "    }\n",
              "  </style>\n",
              "\n",
              "      <script>\n",
              "        const buttonEl =\n",
              "          document.querySelector('#df-3639b5e8-71d7-4049-a3a1-13bae2b1f8fa button.colab-df-convert');\n",
              "        buttonEl.style.display =\n",
              "          google.colab.kernel.accessAllowed ? 'block' : 'none';\n",
              "\n",
              "        async function convertToInteractive(key) {\n",
              "          const element = document.querySelector('#df-3639b5e8-71d7-4049-a3a1-13bae2b1f8fa');\n",
              "          const dataTable =\n",
              "            await google.colab.kernel.invokeFunction('convertToInteractive',\n",
              "                                                     [key], {});\n",
              "          if (!dataTable) return;\n",
              "\n",
              "          const docLinkHtml = 'Like what you see? Visit the ' +\n",
              "            '<a target=\"_blank\" href=https://colab.research.google.com/notebooks/data_table.ipynb>data table notebook</a>'\n",
              "            + ' to learn more about interactive tables.';\n",
              "          element.innerHTML = '';\n",
              "          dataTable['output_type'] = 'display_data';\n",
              "          await google.colab.output.renderOutput(dataTable, element);\n",
              "          const docLink = document.createElement('div');\n",
              "          docLink.innerHTML = docLinkHtml;\n",
              "          element.appendChild(docLink);\n",
              "        }\n",
              "      </script>\n",
              "    </div>\n",
              "  </div>\n",
              "  "
            ]
          },
          "metadata": {},
          "execution_count": 3
        }
      ]
    },
    {
      "cell_type": "code",
      "source": [
        "df.columns"
      ],
      "metadata": {
        "colab": {
          "base_uri": "https://localhost:8080/"
        },
        "id": "hSLZyY8mAev9",
        "outputId": "206d4f91-d719-4573-fd09-44d62f03229b"
      },
      "execution_count": 4,
      "outputs": [
        {
          "output_type": "execute_result",
          "data": {
            "text/plain": [
              "Index(['GENDER', 'AGE', 'EMPLOYMENT', 'STATE', 'REGION', 'EDUCATION', 'QA_M1',\n",
              "       'QA_M2', 'QA_M3', 'QA_M4', 'QA_M5', 'QA_M6', 'QA_M7', 'QA_M8', 'QB',\n",
              "       'QC', 'QD', 'Q1', 'Q2', 'Q3', 'Q4', 'Q5_M1', 'Q5_M2', 'Q5_M3', 'Q5_M4',\n",
              "       'Q5_M5', 'Q6', 'Q7', 'Q8', 'Q9', 'Q10', 'Q11', 'Q12', 'Q13', 'Q14_M1',\n",
              "       'Q14_M2', 'Q14_M3', 'Q14_M4', 'Q14_M5', 'Q15', 'QE', 'QF', 'QG', 'QH',\n",
              "       'QI', 'QJ'],\n",
              "      dtype='object')"
            ]
          },
          "metadata": {},
          "execution_count": 4
        }
      ]
    },
    {
      "cell_type": "code",
      "source": [
        "print('Number of rows:', df.shape[0])\n",
        "print('Number of columns:', df.shape[1])"
      ],
      "metadata": {
        "colab": {
          "base_uri": "https://localhost:8080/"
        },
        "id": "z4Gbc-fK7mjU",
        "outputId": "7e62198b-9141-434d-a631-073e29625470"
      },
      "execution_count": 5,
      "outputs": [
        {
          "output_type": "stream",
          "name": "stdout",
          "text": [
            "Number of rows: 600\n",
            "Number of columns: 46\n"
          ]
        }
      ]
    },
    {
      "cell_type": "code",
      "source": [
        "schema['Question Text']"
      ],
      "metadata": {
        "colab": {
          "base_uri": "https://localhost:8080/"
        },
        "id": "jxgq2fdj88dm",
        "outputId": "f02123a0-bee3-4621-d4ac-f6f1896ab5dd"
      },
      "execution_count": 5,
      "outputs": [
        {
          "output_type": "execute_result",
          "data": {
            "text/plain": [
              "0                           What is your gender please?\n",
              "1                                     What is your age?\n",
              "2                      What is your employment status? \n",
              "3                  What state do you work in currently?\n",
              "4     What is the highest level of formal education ...\n",
              "5     Which of the following describes the departmen...\n",
              "6     At your current company, which of the followin...\n",
              "7     Which of the following best describes your cur...\n",
              "8     Do you currently work in a management-level po...\n",
              "9     To what extent, if at all, has your company im...\n",
              "10    Which of the following best describes the reli...\n",
              "11    How often do you get data requests with unreas...\n",
              "12    What percent of the time do you receive reques...\n",
              "13    What percent of the time do you receive reques...\n",
              "14    Which of the following, if any, have ever cont...\n",
              "15    How strongly do you agree or disagree with the...\n",
              "16    How often, if ever, does the data engineering ...\n",
              "17    How often, if ever, is your work-life balance ...\n",
              "18    How likely are you to leave your current compa...\n",
              "19    Have you ever, even once, considered leaving y...\n",
              "20    How difficult does your company's data governa...\n",
              "21    To what extent are you currently able to effec...\n",
              "22    How important is it for your company to incorp...\n",
              "23    Which of the following are obstacles in your c...\n",
              "24    How strongly do you agree or disagree with the...\n",
              "25    For how many years have you worked in data eng...\n",
              "26    For how many years have you been at your curre...\n",
              "27    For how many years has your current company be...\n",
              "28    How many employees does your company have? Ple...\n",
              "29    Which of the following categories includes you...\n",
              "30    Which of the following best describes the indu...\n",
              "31                                                  NaN\n",
              "Name: Question Text, dtype: object"
            ]
          },
          "metadata": {},
          "execution_count": 5
        }
      ]
    },
    {
      "cell_type": "code",
      "source": [
        "schema['Question Text'][3]"
      ],
      "metadata": {
        "colab": {
          "base_uri": "https://localhost:8080/",
          "height": 35
        },
        "id": "PbbcjgMq_i3_",
        "outputId": "df89e7e0-fdb0-4ecd-e0fe-fa1c2510f9eb"
      },
      "execution_count": 6,
      "outputs": [
        {
          "output_type": "execute_result",
          "data": {
            "text/plain": [
              "'What state do you work in currently?'"
            ],
            "application/vnd.google.colaboratory.intrinsic+json": {
              "type": "string"
            }
          },
          "metadata": {},
          "execution_count": 6
        }
      ]
    },
    {
      "cell_type": "code",
      "source": [
        "#using this helpful function that we applied in the excercise \n",
        "def get_question(col, schema=schema):\n",
        "\n",
        "    quest = list(schema[schema['Metric Label'] == col]['Question Text'])[0]\n",
        "    \n",
        "    return quest\n",
        "\n",
        "get_question('Q3')\n",
        "#Note: this will work for all columns except the questions that are represented in multiple-column scheme"
      ],
      "metadata": {
        "colab": {
          "base_uri": "https://localhost:8080/",
          "height": 52
        },
        "id": "w3g9V9gv8Me9",
        "outputId": "597d2c50-4ab5-4fd1-9f98-0fcade8e30fb"
      },
      "execution_count": 7,
      "outputs": [
        {
          "output_type": "execute_result",
          "data": {
            "text/plain": [
              "'What percent of the time do you receive requests in your job that are simply not possible to do in the time requested? Please give your answer as a percent. Your best guess is fine.'"
            ],
            "application/vnd.google.colaboratory.intrinsic+json": {
              "type": "string"
            }
          },
          "metadata": {},
          "execution_count": 7
        }
      ]
    },
    {
      "cell_type": "code",
      "source": [
        "df.columns.get_loc('Q8')"
      ],
      "metadata": {
        "colab": {
          "base_uri": "https://localhost:8080/"
        },
        "id": "W8_Odh0cCG8I",
        "outputId": "595be6cb-1b7b-4075-c491-8e7210ddf8be"
      },
      "execution_count": 8,
      "outputs": [
        {
          "output_type": "execute_result",
          "data": {
            "text/plain": [
              "28"
            ]
          },
          "metadata": {},
          "execution_count": 8
        }
      ]
    },
    {
      "cell_type": "code",
      "source": [
        "df['QA_M1'].value_counts()"
      ],
      "metadata": {
        "colab": {
          "base_uri": "https://localhost:8080/"
        },
        "id": "ir_bHtDyBpnV",
        "outputId": "63d18d54-d12f-41da-f605-e75f323920b0"
      },
      "execution_count": 9,
      "outputs": [
        {
          "output_type": "execute_result",
          "data": {
            "text/plain": [
              "Develop, maintain, and optimize data systems to make data available for analysis                 92\n",
              "Maintain data in ready-to-use formats                                                            77\n",
              "Ensure that the data architecture will scale appropriately                                       72\n",
              "Manage continuous integration and continuous delivery/deployment (CI/CD) of new data products    71\n",
              "Maintain the distributed systems that execute data pipelines                                     69\n",
              "Write tests to ensure that bad data is detected and acted upon in production                     64\n",
              "Write and test code                                                                              61\n",
              "Create data pipelines                                                                            51\n",
              "Put analytics into production                                                                    43\n",
              "Name: QA_M1, dtype: int64"
            ]
          },
          "metadata": {},
          "execution_count": 9
        }
      ]
    },
    {
      "cell_type": "code",
      "source": [
        "df['Q8'].value_counts() #2, 7, 8"
      ],
      "metadata": {
        "colab": {
          "base_uri": "https://localhost:8080/"
        },
        "outputId": "80cc90d6-fea5-4c57-99f4-7200942f6035",
        "id": "EtM3WHYOAA3U"
      },
      "execution_count": 10,
      "outputs": [
        {
          "output_type": "execute_result",
          "data": {
            "text/plain": [
              "Sometimes       232\n",
              "Often           187\n",
              "All the time    115\n",
              "Rarely           56\n",
              "Never            10\n",
              "Name: Q8, dtype: int64"
            ]
          },
          "metadata": {},
          "execution_count": 10
        }
      ]
    },
    {
      "cell_type": "code",
      "source": [
        "q1 = get_question(14)\n",
        "q2 = get_question(17)\n",
        "q3 = get_question(18)\n",
        "print(q1, '\\n', q2, '\\n', q3)"
      ],
      "metadata": {
        "colab": {
          "base_uri": "https://localhost:8080/",
          "height": 340
        },
        "id": "52UJzvQaA6DF",
        "outputId": "661bb20b-0aee-49c0-e9c2-947b06f48fe2"
      },
      "execution_count": 11,
      "outputs": [
        {
          "output_type": "error",
          "ename": "IndexError",
          "evalue": "ignored",
          "traceback": [
            "\u001b[0;31m---------------------------------------------------------------------------\u001b[0m",
            "\u001b[0;31mIndexError\u001b[0m                                Traceback (most recent call last)",
            "\u001b[0;32m<ipython-input-11-0109bc377fb2>\u001b[0m in \u001b[0;36m<module>\u001b[0;34m\u001b[0m\n\u001b[0;32m----> 1\u001b[0;31m \u001b[0mq1\u001b[0m \u001b[0;34m=\u001b[0m \u001b[0mget_question\u001b[0m\u001b[0;34m(\u001b[0m\u001b[0;36m14\u001b[0m\u001b[0;34m)\u001b[0m\u001b[0;34m\u001b[0m\u001b[0;34m\u001b[0m\u001b[0m\n\u001b[0m\u001b[1;32m      2\u001b[0m \u001b[0mq2\u001b[0m \u001b[0;34m=\u001b[0m \u001b[0mget_question\u001b[0m\u001b[0;34m(\u001b[0m\u001b[0;36m17\u001b[0m\u001b[0;34m)\u001b[0m\u001b[0;34m\u001b[0m\u001b[0;34m\u001b[0m\u001b[0m\n\u001b[1;32m      3\u001b[0m \u001b[0mq3\u001b[0m \u001b[0;34m=\u001b[0m \u001b[0mget_question\u001b[0m\u001b[0;34m(\u001b[0m\u001b[0;36m18\u001b[0m\u001b[0;34m)\u001b[0m\u001b[0;34m\u001b[0m\u001b[0;34m\u001b[0m\u001b[0m\n\u001b[1;32m      4\u001b[0m \u001b[0mprint\u001b[0m\u001b[0;34m(\u001b[0m\u001b[0mq1\u001b[0m\u001b[0;34m,\u001b[0m \u001b[0;34m'\\n'\u001b[0m\u001b[0;34m,\u001b[0m \u001b[0mq2\u001b[0m\u001b[0;34m,\u001b[0m \u001b[0;34m'\\n'\u001b[0m\u001b[0;34m,\u001b[0m \u001b[0mq3\u001b[0m\u001b[0;34m)\u001b[0m\u001b[0;34m\u001b[0m\u001b[0;34m\u001b[0m\u001b[0m\n",
            "\u001b[0;32m<ipython-input-7-80ef74add93b>\u001b[0m in \u001b[0;36mget_question\u001b[0;34m(col, schema)\u001b[0m\n\u001b[1;32m      2\u001b[0m \u001b[0;32mdef\u001b[0m \u001b[0mget_question\u001b[0m\u001b[0;34m(\u001b[0m\u001b[0mcol\u001b[0m\u001b[0;34m,\u001b[0m \u001b[0mschema\u001b[0m\u001b[0;34m=\u001b[0m\u001b[0mschema\u001b[0m\u001b[0;34m)\u001b[0m\u001b[0;34m:\u001b[0m\u001b[0;34m\u001b[0m\u001b[0;34m\u001b[0m\u001b[0m\n\u001b[1;32m      3\u001b[0m \u001b[0;34m\u001b[0m\u001b[0m\n\u001b[0;32m----> 4\u001b[0;31m     \u001b[0mquest\u001b[0m \u001b[0;34m=\u001b[0m \u001b[0mlist\u001b[0m\u001b[0;34m(\u001b[0m\u001b[0mschema\u001b[0m\u001b[0;34m[\u001b[0m\u001b[0mschema\u001b[0m\u001b[0;34m[\u001b[0m\u001b[0;34m'Metric Label'\u001b[0m\u001b[0;34m]\u001b[0m \u001b[0;34m==\u001b[0m \u001b[0mcol\u001b[0m\u001b[0;34m]\u001b[0m\u001b[0;34m[\u001b[0m\u001b[0;34m'Question Text'\u001b[0m\u001b[0;34m]\u001b[0m\u001b[0;34m)\u001b[0m\u001b[0;34m[\u001b[0m\u001b[0;36m0\u001b[0m\u001b[0;34m]\u001b[0m\u001b[0;34m\u001b[0m\u001b[0;34m\u001b[0m\u001b[0m\n\u001b[0m\u001b[1;32m      5\u001b[0m \u001b[0;34m\u001b[0m\u001b[0m\n\u001b[1;32m      6\u001b[0m     \u001b[0;32mreturn\u001b[0m \u001b[0mquest\u001b[0m\u001b[0;34m\u001b[0m\u001b[0;34m\u001b[0m\u001b[0m\n",
            "\u001b[0;31mIndexError\u001b[0m: list index out of range"
          ]
        }
      ]
    },
    {
      "cell_type": "code",
      "source": [
        "list(df['Q2'].values)"
      ],
      "metadata": {
        "id": "yF-NeI7jDgsO"
      },
      "execution_count": null,
      "outputs": []
    },
    {
      "cell_type": "markdown",
      "source": [
        "Using the example provided by matplotlib : https://matplotlib.org/stable/gallery/lines_bars_and_markers/horizontal_barchart_distribution.html#sphx-glr-gallery-lines-bars-and-markers-horizontal-barchart-distribution-py"
      ],
      "metadata": {
        "id": "VieIqgXG_p48"
      }
    },
    {
      "cell_type": "code",
      "source": [
        "\n",
        "category_names = ['Often', 'Sometimes',\n",
        "                  'All the time', 'Rarely', 'Never']\n",
        "results = {\n",
        "    'Q6': [250, 178,  111, 54, 70]\n",
        "}\n",
        "\n",
        "\n",
        "def survey(results, category_names):\n",
        "    \"\"\"\n",
        "    Parameters\n",
        "    ----------\n",
        "    results : dict\n",
        "        A mapping from question labels to a list of answers per category.\n",
        "        It is assumed all lists contain the same number of entries and that\n",
        "        it matches the length of *category_names*.\n",
        "    category_names : list of str\n",
        "        The category labels.\n",
        "    \"\"\"\n",
        "    labels = list(results.keys())\n",
        "    data = np.array(list(results.values()))\n",
        "    data_cum = data.cumsum(axis=1)\n",
        "    category_colors = plt.colormaps['RdYlGn'](\n",
        "        np.linspace(0.15, 0.85, data.shape[1]))\n",
        "\n",
        "    fig, ax = plt.subplots(figsize=(12, 8))\n",
        "    ax.invert_yaxis()\n",
        "    ax.xaxis.set_visible(False)\n",
        "    ax.set_xlim(0, np.sum(data, axis=1).max())\n",
        "\n",
        "    for i, (colname, color) in enumerate(zip(category_names, category_colors)):\n",
        "        widths = data[:, i]\n",
        "        starts = data_cum[:, i] - widths\n",
        "        rects = ax.barh(labels, widths, left=starts, height=0.01,\n",
        "                        label=colname, color=color)\n",
        "\n",
        "        r, g, b, _ = color\n",
        "        text_color = 'white' if r * g * b < 0.5 else 'darkgrey'\n",
        "        ax.bar_label(rects, label_type='center', color=text_color)\n",
        "    ax.legend(ncol=len(category_names), bbox_to_anchor=(0.1, 1),\n",
        "              loc='lower left', fontsize='large')\n",
        "\n",
        "    return fig, ax\n",
        "\n",
        "\n",
        "survey(results, category_names)\n",
        "plt.show()"
      ],
      "metadata": {
        "colab": {
          "base_uri": "https://localhost:8080/",
          "height": 498
        },
        "id": "6dv2-B6Q_Y_E",
        "outputId": "6708a0d9-56c0-4d12-d389-191984efacfd"
      },
      "execution_count": 12,
      "outputs": [
        {
          "output_type": "display_data",
          "data": {
            "text/plain": [
              "<Figure size 864x576 with 1 Axes>"
            ],
            "image/png": "[encoded data removed]"
          },
          "metadata": {
            "needs_background": "light"
          }
        }
      ]
    },
    {
      "cell_type": "code",
      "source": [],
      "metadata": {
        "id": "J7gEJdoY_e7v"
      },
      "execution_count": null,
      "outputs": []
    },
    {
      "cell_type": "code",
      "source": [
        "daily_tasks = df['QA_M1'].value_counts()\n",
        "\n",
        "(daily_tasks / df.shape[0]).plot( kind=\"barh\" );\n",
        "plt.title(\"Data Engineer Daily Tasks Nature\");"
      ],
      "metadata": {
        "colab": {
          "base_uri": "https://localhost:8080/",
          "height": 281
        },
        "id": "uWf0o9nc-FPz",
        "outputId": "02433b07-0447-49d7-9ca1-05ebb96d0c8c"
      },
      "execution_count": 13,
      "outputs": [
        {
          "output_type": "display_data",
          "data": {
            "text/plain": [
              "<Figure size 432x288 with 1 Axes>"
            ],
            "image/png": "[encoded data removed]"
          },
          "metadata": {
            "needs_background": "light"
          }
        }
      ]
    },
    {
      "cell_type": "code",
      "source": [
        "daily_tasks / df.shape[0]"
      ],
      "metadata": {
        "colab": {
          "base_uri": "https://localhost:8080/"
        },
        "id": "erlD0Ssn92hz",
        "outputId": "706ff578-93ed-4ff3-ffba-3a6810473fbb"
      },
      "execution_count": 14,
      "outputs": [
        {
          "output_type": "execute_result",
          "data": {
            "text/plain": [
              "Develop, maintain, and optimize data systems to make data available for analysis                 0.153333\n",
              "Maintain data in ready-to-use formats                                                            0.128333\n",
              "Ensure that the data architecture will scale appropriately                                       0.120000\n",
              "Manage continuous integration and continuous delivery/deployment (CI/CD) of new data products    0.118333\n",
              "Maintain the distributed systems that execute data pipelines                                     0.115000\n",
              "Write tests to ensure that bad data is detected and acted upon in production                     0.106667\n",
              "Write and test code                                                                              0.101667\n",
              "Create data pipelines                                                                            0.085000\n",
              "Put analytics into production                                                                    0.071667\n",
              "Name: QA_M1, dtype: float64"
            ]
          },
          "metadata": {},
          "execution_count": 14
        }
      ]
    },
    {
      "cell_type": "code",
      "source": [
        "a = df['QA_M2'].value_counts() + df['QA_M3'].value_counts() \n",
        "a = a + a\n",
        "a"
      ],
      "metadata": {
        "colab": {
          "base_uri": "https://localhost:8080/"
        },
        "id": "q6hzi-b89-nI",
        "outputId": "f7d92130-c947-464f-811f-468b7f8f577e"
      },
      "execution_count": 15,
      "outputs": [
        {
          "output_type": "execute_result",
          "data": {
            "text/plain": [
              "Create data pipelines                                                                            222\n",
              "Develop, maintain, and optimize data systems to make data available for analysis                 312\n",
              "Ensure that the data architecture will scale appropriately                                       242\n",
              "Maintain data in ready-to-use formats                                                            254\n",
              "Maintain the distributed systems that execute data pipelines                                     292\n",
              "Manage continuous integration and continuous delivery/deployment (CI/CD) of new data products    310\n",
              "Put analytics into production                                                                    238\n",
              "Write and test code                                                                              238\n",
              "Write tests to ensure that bad data is detected and acted upon in production                     292\n",
              "dtype: int64"
            ]
          },
          "metadata": {},
          "execution_count": 15
        }
      ]
    },
    {
      "cell_type": "code",
      "source": [
        "#creating a function to group similar values of diffrent columns\n",
        "def group_vals(columns):\n",
        "  count = 0\n",
        "  for i in columns:\n",
        "    count =  df[i].value_counts() + count\n",
        "\n",
        "  return count \n",
        "  \n",
        "group_vals(['QA_M2', 'QA_M3'])   "
      ],
      "metadata": {
        "colab": {
          "base_uri": "https://localhost:8080/"
        },
        "id": "sOM_vSKO-Hvv",
        "outputId": "6fb4cb97-b5f7-4afd-c62a-566c0b5b8536"
      },
      "execution_count": 6,
      "outputs": [
        {
          "output_type": "execute_result",
          "data": {
            "text/plain": [
              "Create data pipelines                                                                            111\n",
              "Develop, maintain, and optimize data systems to make data available for analysis                 156\n",
              "Ensure that the data architecture will scale appropriately                                       121\n",
              "Maintain data in ready-to-use formats                                                            127\n",
              "Maintain the distributed systems that execute data pipelines                                     146\n",
              "Manage continuous integration and continuous delivery/deployment (CI/CD) of new data products    155\n",
              "Put analytics into production                                                                    119\n",
              "Write and test code                                                                              119\n",
              "Write tests to ensure that bad data is detected and acted upon in production                     146\n",
              "dtype: int64"
            ]
          },
          "metadata": {},
          "execution_count": 6
        }
      ]
    },
    {
      "cell_type": "code",
      "source": [],
      "metadata": {
        "id": "cyalcVti_qiN"
      },
      "execution_count": null,
      "outputs": []
    },
    {
      "cell_type": "code",
      "source": [
        "tasks = group_vals(['QA_M1','QA_M2','QA_M3',\n",
        "                    'QA_M4','QA_M5','QA_M6',\n",
        "                    'QA_M7','QA_M8'\n",
        "])   \n",
        "\n",
        "tasks\n",
        "(tasks / df.shape[0]).plot( kind=\"barh\" );\n",
        "plt.title(\"Data Engineer Daily Tasks Nature\");"
      ],
      "metadata": {
        "colab": {
          "base_uri": "https://localhost:8080/",
          "height": 281
        },
        "outputId": "9301969e-f398-4e24-9823-b0d49656de25",
        "id": "3GawxeVOHhdf"
      },
      "execution_count": 4,
      "outputs": [
        {
          "output_type": "display_data",
          "data": {
            "text/plain": [
              "<Figure size 432x288 with 1 Axes>"
            ],
            "image/png": "[encoded data removed]"
          },
          "metadata": {
            "needs_background": "light"
          }
        }
      ]
    },
    {
      "cell_type": "code",
      "source": [
        "type(tasks)"
      ],
      "metadata": {
        "colab": {
          "base_uri": "https://localhost:8080/"
        },
        "id": "h7d5AU9eiRN_",
        "outputId": "dda5964f-0132-4bf4-c72d-647fa45e4a87"
      },
      "execution_count": 5,
      "outputs": [
        {
          "output_type": "execute_result",
          "data": {
            "text/plain": [
              "pandas.core.series.Series"
            ]
          },
          "metadata": {},
          "execution_count": 5
        }
      ]
    },
    {
      "cell_type": "code",
      "source": [
        "tasks"
      ],
      "metadata": {
        "colab": {
          "base_uri": "https://localhost:8080/"
        },
        "id": "JQ0_4Lkgynpn",
        "outputId": "94379339-64dd-4e27-8557-aa4b97323bf7"
      },
      "execution_count": 34,
      "outputs": [
        {
          "output_type": "execute_result",
          "data": {
            "text/plain": [
              "0                                                                                                  NaN\n",
              "Create data pipelines                                                                            263.0\n",
              "Develop, maintain, and optimize data systems to make data available for analysis                 397.0\n",
              "Ensure that the data architecture will scale appropriately                                         NaN\n",
              "Maintain data in ready-to-use formats                                                            350.0\n",
              "Maintain the distributed systems that execute data pipelines                                     348.0\n",
              "Manage continuous integration and continuous delivery/deployment (CI/CD) of new data products    361.0\n",
              "Put analytics into production                                                                      NaN\n",
              "Write and test code                                                                                NaN\n",
              "Write tests to ensure that bad data is detected and acted upon in production                     346.0\n",
              "dtype: float64"
            ]
          },
          "metadata": {},
          "execution_count": 34
        }
      ]
    },
    {
      "cell_type": "code",
      "source": [
        "tasks = group_vals(['Q5_M1','Q5_M2','Q5_M3',\n",
        "                    'Q5_M4'\n",
        "])   \n",
        "\n",
        "tasks\n",
        "(tasks / df.shape[0]).plot( kind=\"barh\" );\n",
        "plt.title(\"Data Engineer Daily Tasks Nature\");"
      ],
      "metadata": {
        "colab": {
          "base_uri": "https://localhost:8080/",
          "height": 281
        },
        "outputId": "81cf3139-b3da-4e51-a151-4efbe4c4aa9f",
        "id": "FzA_G1yhwXiz"
      },
      "execution_count": 11,
      "outputs": [
        {
          "output_type": "display_data",
          "data": {
            "text/plain": [
              "<Figure size 432x288 with 1 Axes>"
            ],
            "image/png": "[encoded data removed]"
          },
          "metadata": {
            "needs_background": "light"
          }
        }
      ]
    },
    {
      "cell_type": "code",
      "source": [
        "(df['QB'].value_counts() / df.shape[0]).plot( kind=\"pie\" );\n",
        "plt.title(\"Job title\");"
      ],
      "metadata": {
        "colab": {
          "base_uri": "https://localhost:8080/",
          "height": 264
        },
        "outputId": "6a62c840-cab3-4dad-c179-832806568d72",
        "id": "czv17BUwvTG0"
      },
      "execution_count": 7,
      "outputs": [
        {
          "output_type": "display_data",
          "data": {
            "text/plain": [
              "<Figure size 432x288 with 1 Axes>"
            ],
            "image/png": "[encoded data removed]"
          },
          "metadata": {}
        }
      ]
    },
    {
      "cell_type": "code",
      "source": [
        "def fillNaN(col_name):\n",
        "   df[col_name].fillna(0, inplace=True)"
      ],
      "metadata": {
        "id": "SNBQ1c1GxzcE"
      },
      "execution_count": 12,
      "outputs": []
    },
    {
      "cell_type": "code",
      "source": [
        "fillNaN('QA_M8')"
      ],
      "metadata": {
        "id": "h_2JJL0myA_A"
      },
      "execution_count": 32,
      "outputs": []
    },
    {
      "cell_type": "code",
      "source": [
        "df['QA_M1'].value_counts() "
      ],
      "metadata": {
        "colab": {
          "base_uri": "https://localhost:8080/"
        },
        "id": "dJy23oN0yNyQ",
        "outputId": "a368cac1-cb92-41e5-f827-de1568073ef9"
      },
      "execution_count": 6,
      "outputs": [
        {
          "output_type": "execute_result",
          "data": {
            "text/plain": [
              "Develop, maintain, and optimize data systems to make data available for analysis                 92\n",
              "Maintain data in ready-to-use formats                                                            77\n",
              "Ensure that the data architecture will scale appropriately                                       72\n",
              "Manage continuous integration and continuous delivery/deployment (CI/CD) of new data products    71\n",
              "Maintain the distributed systems that execute data pipelines                                     69\n",
              "Write tests to ensure that bad data is detected and acted upon in production                     64\n",
              "Write and test code                                                                              61\n",
              "Create data pipelines                                                                            51\n",
              "Put analytics into production                                                                    43\n",
              "Name: QA_M1, dtype: int64"
            ]
          },
          "metadata": {},
          "execution_count": 6
        }
      ]
    },
    {
      "cell_type": "code",
      "source": [
        "counts = dict(df['QA_M1'].value_counts())\n",
        "counts"
      ],
      "metadata": {
        "colab": {
          "base_uri": "https://localhost:8080/"
        },
        "id": "tv6_A2rJoibv",
        "outputId": "05cfbfb0-fc3b-4305-c8cf-f31a23baa20b"
      },
      "execution_count": 7,
      "outputs": [
        {
          "output_type": "execute_result",
          "data": {
            "text/plain": [
              "{'Develop, maintain, and optimize data systems to make data available for analysis': 92,\n",
              " 'Maintain data in ready-to-use formats': 77,\n",
              " 'Ensure that the data architecture will scale appropriately': 72,\n",
              " 'Manage continuous integration and continuous delivery/deployment (CI/CD) of new data products': 71,\n",
              " 'Maintain the distributed systems that execute data pipelines': 69,\n",
              " 'Write tests to ensure that bad data is detected and acted upon in production': 64,\n",
              " 'Write and test code': 61,\n",
              " 'Create data pipelines': 51,\n",
              " 'Put analytics into production': 43}"
            ]
          },
          "metadata": {},
          "execution_count": 7
        }
      ]
    },
    {
      "cell_type": "code",
      "source": [
        "def add_dict(dict2 , counts=counts):\n",
        "  updated_counts = 0\n",
        "  for i in counts:\n",
        "    if i in dict2:\n",
        "        counts[i] = counts[i] + dict2[i]\n",
        "    else:\n",
        "        pass\n",
        "  updated_counts = counts   \n",
        "  return updated_counts"
      ],
      "metadata": {
        "id": "o9f9qkw8pwJ9"
      },
      "execution_count": 24,
      "outputs": []
    },
    {
      "cell_type": "code",
      "source": [
        "questions = ['QA_M2','QA_M3', 'QA_M4','QA_M5','QA_M6','QA_M7','QA_M8']\n",
        "for i in questions:\n",
        " total_count = add_dict(dict(df[i].value_counts()))\n",
        "\n",
        "total_count"
      ],
      "metadata": {
        "colab": {
          "base_uri": "https://localhost:8080/"
        },
        "id": "ATHsGfyFqllV",
        "outputId": "b9929020-6448-444d-be50-58ee16fbef20"
      },
      "execution_count": 9,
      "outputs": [
        {
          "output_type": "execute_result",
          "data": {
            "text/plain": [
              "{'Develop, maintain, and optimize data systems to make data available for analysis': 397,\n",
              " 'Maintain data in ready-to-use formats': 350,\n",
              " 'Ensure that the data architecture will scale appropriately': 317,\n",
              " 'Manage continuous integration and continuous delivery/deployment (CI/CD) of new data products': 361,\n",
              " 'Maintain the distributed systems that execute data pipelines': 348,\n",
              " 'Write tests to ensure that bad data is detected and acted upon in production': 346,\n",
              " 'Write and test code': 315,\n",
              " 'Create data pipelines': 263,\n",
              " 'Put analytics into production': 261}"
            ]
          },
          "metadata": {},
          "execution_count": 9
        }
      ]
    },
    {
      "cell_type": "code",
      "source": [
        "result = pd.Series(total_count)"
      ],
      "metadata": {
        "id": "-vDBPPF_HtMI"
      },
      "execution_count": 11,
      "outputs": []
    },
    {
      "cell_type": "code",
      "source": [
        "(result.sort_values(ascending=True) / df.shape[0]).plot( kind=\"barh\" );\n",
        "plt.title(\"Data Engineer Daily Tasks Nature\");"
      ],
      "metadata": {
        "colab": {
          "base_uri": "https://localhost:8080/",
          "height": 281
        },
        "id": "K2qxUBKiHncN",
        "outputId": "b3f0f918-07e5-4356-84ca-12b6ae02f596"
      },
      "execution_count": 13,
      "outputs": [
        {
          "output_type": "display_data",
          "data": {
            "text/plain": [
              "<Figure size 432x288 with 1 Axes>"
            ],
            "image/png": "[encoded data removed]"
          },
          "metadata": {
            "needs_background": "light"
          }
        }
      ]
    },
    {
      "cell_type": "code",
      "source": [
        "counts = dict(df['Q5_M1'].value_counts())\n",
        "counts"
      ],
      "metadata": {
        "colab": {
          "base_uri": "https://localhost:8080/"
        },
        "id": "dfizNTSQKkAX",
        "outputId": "4fe8bd6d-4ca8-4a94-a4eb-9ccce9a5dc5f"
      },
      "execution_count": 23,
      "outputs": [
        {
          "output_type": "execute_result",
          "data": {
            "text/plain": [
              "{'Focusing too much time on finding and fixing errors': 106,\n",
              " 'Constantly playing catch up with stakeholder requests': 104,\n",
              " 'Lack of feedback on the products delivered': 104,\n",
              " 'Focusing too much on maintaining data pipelines and/or manual processes': 102,\n",
              " 'Fast pace of requests from stakeholders': 90,\n",
              " 'Unreasonable requests from stakeholders': 77,\n",
              " 'I have never felt burnt out from my job': 17}"
            ]
          },
          "metadata": {},
          "execution_count": 23
        }
      ]
    },
    {
      "cell_type": "code",
      "source": [
        "questions = ['Q5_M2','Q5_M3', 'Q5_M4','Q5_M5']\n",
        "for i in questions:\n",
        " total_count = add_dict(dict(df[i].value_counts()))\n",
        "\n",
        "total_count"
      ],
      "metadata": {
        "colab": {
          "base_uri": "https://localhost:8080/"
        },
        "id": "rgJJEq_YKsub",
        "outputId": "3ab59c56-5fba-400c-b92e-22aefaeaa763"
      },
      "execution_count": 25,
      "outputs": [
        {
          "output_type": "execute_result",
          "data": {
            "text/plain": [
              "{'Focusing too much time on finding and fixing errors': 301,\n",
              " 'Constantly playing catch up with stakeholder requests': 296,\n",
              " 'Lack of feedback on the products delivered': 282,\n",
              " 'Focusing too much on maintaining data pipelines and/or manual processes': 297,\n",
              " 'Fast pace of requests from stakeholders': 286,\n",
              " 'Unreasonable requests from stakeholders': 251,\n",
              " 'I have never felt burnt out from my job': 17}"
            ]
          },
          "metadata": {},
          "execution_count": 25
        }
      ]
    },
    {
      "cell_type": "code",
      "source": [
        "result2 = pd.Series(total_count)"
      ],
      "metadata": {
        "id": "8DOJNR4UNVob"
      },
      "execution_count": 26,
      "outputs": []
    },
    {
      "cell_type": "code",
      "source": [
        "(result2.sort_values(ascending=True) / df.shape[0]).plot( kind=\"barh\" );\n",
        "plt.title(\"Data Engineer\");"
      ],
      "metadata": {
        "colab": {
          "base_uri": "https://localhost:8080/",
          "height": 281
        },
        "id": "CWZCJeLqLCs4",
        "outputId": "d9458da5-e1fd-4d18-b688-1d426face097"
      },
      "execution_count": 27,
      "outputs": [
        {
          "output_type": "display_data",
          "data": {
            "text/plain": [
              "<Figure size 432x288 with 1 Axes>"
            ],
            "image/png": "[encoded data removed]"
          },
          "metadata": {
            "needs_background": "light"
          }
        }
      ]
    },
    {
      "cell_type": "code",
      "source": [
        "print(new_dict)"
      ],
      "metadata": {
        "colab": {
          "base_uri": "https://localhost:8080/"
        },
        "id": "pavFKbDUqvSu",
        "outputId": "b27b0523-763a-44f5-f551-93b91705c84d"
      },
      "execution_count": 32,
      "outputs": [
        {
          "output_type": "stream",
          "name": "stdout",
          "text": [
            "None\n"
          ]
        }
      ]
    },
    {
      "cell_type": "code",
      "source": [
        "counts.update(dict(df['QA_M2'].value_counts()))\n",
        "counts"
      ],
      "metadata": {
        "colab": {
          "base_uri": "https://localhost:8080/"
        },
        "id": "3Wwxf8kipF7Z",
        "outputId": "14369482-7ffc-4485-dc39-8df7775cefa7"
      },
      "execution_count": 10,
      "outputs": [
        {
          "output_type": "execute_result",
          "data": {
            "text/plain": [
              "{'Develop, maintain, and optimize data systems to make data available for analysis': 81,\n",
              " 'Maintain data in ready-to-use formats': 63,\n",
              " 'Ensure that the data architecture will scale appropriately': 68,\n",
              " 'Manage continuous integration and continuous delivery/deployment (CI/CD) of new data products': 75,\n",
              " 'Maintain the distributed systems that execute data pipelines': 65,\n",
              " 'Write tests to ensure that bad data is detected and acted upon in production': 80,\n",
              " 'Write and test code': 57,\n",
              " 'Create data pipelines': 53,\n",
              " 'Put analytics into production': 58}"
            ]
          },
          "metadata": {},
          "execution_count": 10
        }
      ]
    },
    {
      "cell_type": "code",
      "source": [
        "#result = pd.Series(data = counts)\n",
        "#result\n",
        "#(result / df.shape[0]).plot( kind=\"barh\" );\n",
        "#plt.title(\"Data Engineer Daily Tasks Nature\");"
      ],
      "metadata": {
        "colab": {
          "base_uri": "https://localhost:8080/"
        },
        "id": "poTi4xz0r1hg",
        "outputId": "0d193290-48ae-415b-9002-8a908bb26c07"
      },
      "execution_count": 25,
      "outputs": [
        {
          "output_type": "stream",
          "name": "stderr",
          "text": [
            "<ipython-input-25-3b21c4269168>:1: DeprecationWarning: The default dtype for empty Series will be 'object' instead of 'float64' in a future version. Specify a dtype explicitly to silence this warning.\n",
            "  result = pd.Series(data = counts)\n"
          ]
        },
        {
          "output_type": "execute_result",
          "data": {
            "text/plain": [
              "Series([], dtype: float64)"
            ]
          },
          "metadata": {},
          "execution_count": 25
        }
      ]
    },
    {
      "cell_type": "code",
      "source": [
        "df['QB'].shape"
      ],
      "metadata": {
        "colab": {
          "base_uri": "https://localhost:8080/"
        },
        "id": "ZLJXAmDO_rQt",
        "outputId": "b34b4e10-9272-4e47-80f1-8cc42b6e4861"
      },
      "execution_count": 4,
      "outputs": [
        {
          "output_type": "execute_result",
          "data": {
            "text/plain": [
              "(600,)"
            ]
          },
          "metadata": {},
          "execution_count": 4
        }
      ]
    },
    {
      "cell_type": "code",
      "source": [
        "df['QA_M2'].value_counts() "
      ],
      "metadata": {
        "colab": {
          "base_uri": "https://localhost:8080/"
        },
        "id": "wiHUVgtFJ9he",
        "outputId": "f10d144b-1a4c-4dcf-f0a1-ff6ff2c0d242"
      },
      "execution_count": 18,
      "outputs": [
        {
          "output_type": "execute_result",
          "data": {
            "text/plain": [
              "Develop, maintain, and optimize data systems to make data available for analysis                 81\n",
              "Write tests to ensure that bad data is detected and acted upon in production                     80\n",
              "Manage continuous integration and continuous delivery/deployment (CI/CD) of new data products    75\n",
              "Ensure that the data architecture will scale appropriately                                       68\n",
              "Maintain the distributed systems that execute data pipelines                                     65\n",
              "Maintain data in ready-to-use formats                                                            63\n",
              "Put analytics into production                                                                    58\n",
              "Write and test code                                                                              57\n",
              "Create data pipelines                                                                            53\n",
              "Name: QA_M2, dtype: int64"
            ]
          },
          "metadata": {},
          "execution_count": 18
        }
      ]
    },
    {
      "cell_type": "code",
      "source": [
        "df['QA_M4'].value_counts()"
      ],
      "metadata": {
        "id": "u76u1GqvN--r"
      },
      "execution_count": null,
      "outputs": []
    },
    {
      "cell_type": "code",
      "source": [
        "df['QA_M8'].value_counts() "
      ],
      "metadata": {
        "id": "udFfZYFUPDpe"
      },
      "execution_count": null,
      "outputs": []
    },
    {
      "cell_type": "code",
      "source": [
        "df.groupby(['Q6']).mean()['QH'].sort_values().dropna()"
      ],
      "metadata": {
        "colab": {
          "base_uri": "https://localhost:8080/"
        },
        "id": "4taU7uOeQ6eQ",
        "outputId": "3773c75d-abe7-4e6b-d0e5-af67e5aabd28"
      },
      "execution_count": 19,
      "outputs": [
        {
          "output_type": "execute_result",
          "data": {
            "text/plain": [
              "Q6\n",
              "Disagree strongly    2766.129032\n",
              "Agree strongly       3599.490000\n",
              "Agree somewhat       3966.018587\n",
              "Disagree somewhat    5624.990000\n",
              "Name: QH, dtype: float64"
            ]
          },
          "metadata": {},
          "execution_count": 19
        }
      ]
    },
    {
      "cell_type": "code",
      "source": [
        "copy = df\n",
        "copy['QH']"
      ],
      "metadata": {
        "colab": {
          "base_uri": "https://localhost:8080/"
        },
        "id": "V_otGmNrAtW_",
        "outputId": "b5cf0ff2-47b4-44c4-8ff5-a2c1c7cb06be"
      },
      "execution_count": 131,
      "outputs": [
        {
          "output_type": "execute_result",
          "data": {
            "text/plain": [
              "0      1500\n",
              "1      2000\n",
              "2        20\n",
              "3       250\n",
              "4       999\n",
              "       ... \n",
              "595    3400\n",
              "596     650\n",
              "597     400\n",
              "598    1500\n",
              "599    1000\n",
              "Name: QH, Length: 600, dtype: int64"
            ]
          },
          "metadata": {},
          "execution_count": 131
        }
      ]
    },
    {
      "cell_type": "code",
      "source": [
        "copy['QH'] = copy['QH'].apply(int)\n",
        "for i in copy['QH']:\n",
        " if type(i) is str:\n",
        "   continue\n",
        " elif i <= 49:\n",
        "    copy['QH'][i] = 'Very small company'\n",
        " elif i <= 299:\n",
        "    copy['QH'][i] = 'Mid-size company'\n",
        " elif i <= 4999:\n",
        "    copy['QH'][i] = 'Big Company'\n",
        " elif i <= 9999:\n",
        "    copy['QH'][i] = 'Very big Company' \n",
        " else:\n",
        "    copy['QH'][i] = 'Worldwide Company' \n",
        "    \n"
      ],
      "metadata": {
        "colab": {
          "base_uri": "https://localhost:8080/"
        },
        "id": "hR5hZvPB_vo3",
        "outputId": "28a8691d-cc30-4301-a2c8-96125b43b2c5"
      },
      "execution_count": 103,
      "outputs": [
        {
          "output_type": "stream",
          "name": "stderr",
          "text": [
            "<ipython-input-103-953be0a1a130>:10: SettingWithCopyWarning: \n",
            "A value is trying to be set on a copy of a slice from a DataFrame\n",
            "\n",
            "See the caveats in the documentation: https://pandas.pydata.org/pandas-docs/stable/user_guide/indexing.html#returning-a-view-versus-a-copy\n",
            "  copy['QH'][i] = 'Big Company'\n",
            "<ipython-input-103-953be0a1a130>:6: SettingWithCopyWarning: \n",
            "A value is trying to be set on a copy of a slice from a DataFrame\n",
            "\n",
            "See the caveats in the documentation: https://pandas.pydata.org/pandas-docs/stable/user_guide/indexing.html#returning-a-view-versus-a-copy\n",
            "  copy['QH'][i] = 'Very small company'\n",
            "/usr/local/lib/python3.8/dist-packages/pandas/core/indexing.py:1732: SettingWithCopyWarning: \n",
            "A value is trying to be set on a copy of a slice from a DataFrame\n",
            "\n",
            "See the caveats in the documentation: https://pandas.pydata.org/pandas-docs/stable/user_guide/indexing.html#returning-a-view-versus-a-copy\n",
            "  self._setitem_single_block(indexer, value, name)\n",
            "<ipython-input-103-953be0a1a130>:14: SettingWithCopyWarning: \n",
            "A value is trying to be set on a copy of a slice from a DataFrame\n",
            "\n",
            "See the caveats in the documentation: https://pandas.pydata.org/pandas-docs/stable/user_guide/indexing.html#returning-a-view-versus-a-copy\n",
            "  copy['QH'][i] = 'Worldwide Company'\n",
            "<ipython-input-103-953be0a1a130>:8: SettingWithCopyWarning: \n",
            "A value is trying to be set on a copy of a slice from a DataFrame\n",
            "\n",
            "See the caveats in the documentation: https://pandas.pydata.org/pandas-docs/stable/user_guide/indexing.html#returning-a-view-versus-a-copy\n",
            "  copy['QH'][i] = 'Mid-size company'\n",
            "<ipython-input-103-953be0a1a130>:12: SettingWithCopyWarning: \n",
            "A value is trying to be set on a copy of a slice from a DataFrame\n",
            "\n",
            "See the caveats in the documentation: https://pandas.pydata.org/pandas-docs/stable/user_guide/indexing.html#returning-a-view-versus-a-copy\n",
            "  copy['QH'][i] = 'Very big Company'\n"
          ]
        }
      ]
    },
    {
      "cell_type": "code",
      "source": [],
      "metadata": {
        "id": "lsuzCj8SOF34"
      },
      "execution_count": null,
      "outputs": []
    },
    {
      "cell_type": "code",
      "source": [
        "copy['QH']"
      ],
      "metadata": {
        "colab": {
          "base_uri": "https://localhost:8080/"
        },
        "id": "lweH6QkPMrLT",
        "outputId": "92abebb4-b158-41dc-d6ff-6e731fb4a23d"
      },
      "execution_count": 104,
      "outputs": [
        {
          "output_type": "execute_result",
          "data": {
            "text/plain": [
              "0      1500\n",
              "1      2000\n",
              "2        20\n",
              "3       250\n",
              "4       999\n",
              "       ... \n",
              "595    3400\n",
              "596     650\n",
              "597     400\n",
              "598    1500\n",
              "599    1000\n",
              "Name: QH, Length: 600, dtype: object"
            ]
          },
          "metadata": {},
          "execution_count": 104
        }
      ]
    },
    {
      "cell_type": "code",
      "source": [
        "company_size"
      ],
      "metadata": {
        "id": "ckBR-vrvH8Ov"
      },
      "execution_count": 81,
      "outputs": []
    },
    {
      "cell_type": "code",
      "source": [
        "df['QH']"
      ],
      "metadata": {
        "colab": {
          "base_uri": "https://localhost:8080/"
        },
        "id": "WGANYlHjCwru",
        "outputId": "01635ca9-27c4-4c77-a2d1-5c8247f68f82"
      },
      "execution_count": 67,
      "outputs": [
        {
          "output_type": "execute_result",
          "data": {
            "text/plain": [
              "0                    1500\n",
              "1                    2000\n",
              "2      Very small company\n",
              "3                     250\n",
              "4                     999\n",
              "              ...        \n",
              "595                  3400\n",
              "596                   650\n",
              "597                   400\n",
              "598                  1500\n",
              "599                  1000\n",
              "Name: QH, Length: 600, dtype: object"
            ]
          },
          "metadata": {},
          "execution_count": 67
        }
      ]
    },
    {
      "cell_type": "code",
      "source": [],
      "metadata": {
        "id": "n3U7nXyCCwxk"
      },
      "execution_count": null,
      "outputs": []
    },
    {
      "cell_type": "code",
      "source": [
        "company_size"
      ],
      "metadata": {
        "colab": {
          "base_uri": "https://localhost:8080/"
        },
        "id": "J5cv_4QN7e37",
        "outputId": "79380949-22df-4311-86d0-e51a676677ca"
      },
      "execution_count": 46,
      "outputs": [
        {
          "output_type": "execute_result",
          "data": {
            "text/plain": [
              "array('Big Company', dtype='<U21')"
            ]
          },
          "metadata": {},
          "execution_count": 46
        }
      ]
    },
    {
      "cell_type": "code",
      "source": [
        "copy['QH']"
      ],
      "metadata": {
        "colab": {
          "base_uri": "https://localhost:8080/"
        },
        "id": "b6sNgTJk2S_M",
        "outputId": "ab0acde5-60c7-468b-fcfe-4f3429e0ec1b"
      },
      "execution_count": 109,
      "outputs": [
        {
          "output_type": "execute_result",
          "data": {
            "text/plain": [
              "0      1500\n",
              "1      2000\n",
              "2        20\n",
              "3       250\n",
              "4       999\n",
              "       ... \n",
              "595    3400\n",
              "596     650\n",
              "597     400\n",
              "598    1500\n",
              "599    1000\n",
              "Name: QH, Length: 600, dtype: int64"
            ]
          },
          "metadata": {},
          "execution_count": 109
        }
      ]
    },
    {
      "cell_type": "code",
      "source": [
        "df['QH'].min()"
      ],
      "metadata": {
        "colab": {
          "base_uri": "https://localhost:8080/"
        },
        "id": "SDuYwH1QS_NS",
        "outputId": "e048904f-5e05-4a6b-81ba-37f2177a60ec"
      },
      "execution_count": 9,
      "outputs": [
        {
          "output_type": "execute_result",
          "data": {
            "text/plain": [
              "5"
            ]
          },
          "metadata": {},
          "execution_count": 9
        }
      ]
    },
    {
      "cell_type": "code",
      "source": [
        "df['QH'].max()"
      ],
      "metadata": {
        "colab": {
          "base_uri": "https://localhost:8080/"
        },
        "id": "BmIXyLzXO6rZ",
        "outputId": "09483ced-e6df-4778-ab18-63d0abaf063e"
      },
      "execution_count": 10,
      "outputs": [
        {
          "output_type": "execute_result",
          "data": {
            "text/plain": [
              "273000"
            ]
          },
          "metadata": {},
          "execution_count": 10
        }
      ]
    },
    {
      "cell_type": "code",
      "source": [
        "copy['QH'] = copy['QH'].astype(np.int64)"
      ],
      "metadata": {
        "id": "vhozSyIWOwTq"
      },
      "execution_count": 132,
      "outputs": []
    },
    {
      "cell_type": "code",
      "source": [
        "criteria = [copy['QH'].between(0, 10), copy['QH'].between(11, 49),\n",
        "            copy['QH'].between(50, 299), copy['QH'].between(300, 4999),\n",
        "            copy['QH'].between(5000, 9999), copy['QH'].between(10000, 273000)]\n",
        "Range_label = ['Very small company', 'Small company', 'Mid-size company', 'Big Company','Very big company','International company']\n",
        "\n",
        "copy['QH'] = np.select(criteria, Range_label, 0)"
      ],
      "metadata": {
        "id": "kcwqe49c3iYJ"
      },
      "execution_count": 133,
      "outputs": []
    },
    {
      "cell_type": "code",
      "source": [
        "copy['QH'].value_counts()"
      ],
      "metadata": {
        "colab": {
          "base_uri": "https://localhost:8080/"
        },
        "id": "zv4hWmj64Xg5",
        "outputId": "0fa9148f-e8cf-429e-9cb1-488f7182d455"
      },
      "execution_count": 134,
      "outputs": [
        {
          "output_type": "execute_result",
          "data": {
            "text/plain": [
              "Big Company              429\n",
              "Mid-size company          57\n",
              "Very big company          54\n",
              "International company     40\n",
              "Small company             15\n",
              "Very small company         5\n",
              "Name: QH, dtype: int64"
            ]
          },
          "metadata": {},
          "execution_count": 134
        }
      ]
    },
    {
      "cell_type": "code",
      "source": [
        "copy['Q6']"
      ],
      "metadata": {
        "colab": {
          "base_uri": "https://localhost:8080/"
        },
        "outputId": "03ac6767-2c5c-4067-cbe3-2a7c2492c6cf",
        "id": "NNy1qpq446Un"
      },
      "execution_count": 138,
      "outputs": [
        {
          "output_type": "execute_result",
          "data": {
            "text/plain": [
              "0      3\n",
              "1      4\n",
              "2      4\n",
              "3      4\n",
              "4      3\n",
              "      ..\n",
              "595    3\n",
              "596    3\n",
              "597    3\n",
              "598    3\n",
              "599    4\n",
              "Name: Q6, Length: 600, dtype: int64"
            ]
          },
          "metadata": {},
          "execution_count": 138
        }
      ]
    },
    {
      "cell_type": "code",
      "source": [
        "copy['Q6'] = copy['Q6'].map({'Agree strongly':4, 'Agree somewhat':3, 'Disagree somewhat':2, 'Disagree strongly':1}) "
      ],
      "metadata": {
        "id": "9USzgBBi5Dq_"
      },
      "execution_count": 136,
      "outputs": []
    },
    {
      "cell_type": "code",
      "source": [
        "copy.groupby(['QH']).mean()['Q6'].sort_values().dropna()"
      ],
      "metadata": {
        "colab": {
          "base_uri": "https://localhost:8080/"
        },
        "id": "OQkaztEA6JS6",
        "outputId": "10bd33b8-e8e2-44bb-c340-c6024cdcf3fb"
      },
      "execution_count": 137,
      "outputs": [
        {
          "output_type": "execute_result",
          "data": {
            "text/plain": [
              "QH\n",
              "Small company            2.733333\n",
              "Mid-size company         2.964912\n",
              "Big Company              3.055944\n",
              "International company    3.125000\n",
              "Very big company         3.203704\n",
              "Very small company       3.800000\n",
              "Name: Q6, dtype: float64"
            ]
          },
          "metadata": {},
          "execution_count": 137
        }
      ]
    },
    {
      "cell_type": "code",
      "source": [
        "copy.corr()"
      ],
      "metadata": {
        "colab": {
          "base_uri": "https://localhost:8080/",
          "height": 175
        },
        "id": "ilt6BhaFGJ0g",
        "outputId": "439b0924-fab5-423a-9281-c27318db1e34"
      },
      "execution_count": 143,
      "outputs": [
        {
          "output_type": "execute_result",
          "data": {
            "text/plain": [
              "          AGE        Q3        Q4        Q6\n",
              "AGE  1.000000  0.005914 -0.018036 -0.045699\n",
              "Q3   0.005914  1.000000  0.847608  0.319978\n",
              "Q4  -0.018036  0.847608  1.000000  0.269318\n",
              "Q6  -0.045699  0.319978  0.269318  1.000000"
            ],
            "text/html": [
              "\n",
              "  <div id=\"df-361bea55-e098-429d-82fa-6f5ecf36c50e\">\n",
              "    <div class=\"colab-df-container\">\n",
              "      <div>\n",
              "<style scoped>\n",
              "    .dataframe tbody tr th:only-of-type {\n",
              "        vertical-align: middle;\n",
              "    }\n",
              "\n",
              "    .dataframe tbody tr th {\n",
              "        vertical-align: top;\n",
              "    }\n",
              "\n",
              "    .dataframe thead th {\n",
              "        text-align: right;\n",
              "    }\n",
              "</style>\n",
              "<table border=\"1\" class=\"dataframe\">\n",
              "  <thead>\n",
              "    <tr style=\"text-align: right;\">\n",
              "      <th></th>\n",
              "      <th>AGE</th>\n",
              "      <th>Q3</th>\n",
              "      <th>Q4</th>\n",
              "      <th>Q6</th>\n",
              "    </tr>\n",
              "  </thead>\n",
              "  <tbody>\n",
              "    <tr>\n",
              "      <th>AGE</th>\n",
              "      <td>1.000000</td>\n",
              "      <td>0.005914</td>\n",
              "      <td>-0.018036</td>\n",
              "      <td>-0.045699</td>\n",
              "    </tr>\n",
              "    <tr>\n",
              "      <th>Q3</th>\n",
              "      <td>0.005914</td>\n",
              "      <td>1.000000</td>\n",
              "      <td>0.847608</td>\n",
              "      <td>0.319978</td>\n",
              "    </tr>\n",
              "    <tr>\n",
              "      <th>Q4</th>\n",
              "      <td>-0.018036</td>\n",
              "      <td>0.847608</td>\n",
              "      <td>1.000000</td>\n",
              "      <td>0.269318</td>\n",
              "    </tr>\n",
              "    <tr>\n",
              "      <th>Q6</th>\n",
              "      <td>-0.045699</td>\n",
              "      <td>0.319978</td>\n",
              "      <td>0.269318</td>\n",
              "      <td>1.000000</td>\n",
              "    </tr>\n",
              "  </tbody>\n",
              "</table>\n",
              "</div>\n",
              "      <button class=\"colab-df-convert\" onclick=\"convertToInteractive('df-361bea55-e098-429d-82fa-6f5ecf36c50e')\"\n",
              "              title=\"Convert this dataframe to an interactive table.\"\n",
              "              style=\"display:none;\">\n",
              "        \n",
              "  <svg xmlns=\"http://www.w3.org/2000/svg\" height=\"24px\"viewBox=\"0 0 24 24\"\n",
              "       width=\"24px\">\n",
              "    <path d=\"M0 0h24v24H0V0z\" fill=\"none\"/>\n",
              "    <path d=\"M18.56 5.44l.94 2.06.94-2.06 2.06-.94-2.06-.94-.94-2.06-.94 2.06-2.06.94zm-11 1L8.5 8.5l.94-2.06 2.06-.94-2.06-.94L8.5 2.5l-.94 2.06-2.06.94zm10 10l.94 2.06.94-2.06 2.06-.94-2.06-.94-.94-2.06-.94 2.06-2.06.94z\"/><path d=\"M17.41 7.96l-1.37-1.37c-.4-.4-.92-.59-1.43-.59-.52 0-1.04.2-1.43.59L10.3 9.45l-7.72 7.72c-.78.78-.78 2.05 0 2.83L4 21.41c.39.39.9.59 1.41.59.51 0 1.02-.2 1.41-.59l7.78-7.78 2.81-2.81c.8-.78.8-2.07 0-2.86zM5.41 20L4 18.59l7.72-7.72 1.47 1.35L5.41 20z\"/>\n",
              "  </svg>\n",
              "      </button>\n",
              "      \n",
              "  <style>\n",
              "    .colab-df-container {\n",
              "      display:flex;\n",
              "      flex-wrap:wrap;\n",
              "      gap: 12px;\n",
              "    }\n",
              "\n",
              "    .colab-df-convert {\n",
              "      background-color: #E8F0FE;\n",
              "      border: none;\n",
              "      border-radius: 50%;\n",
              "      cursor: pointer;\n",
              "      display: none;\n",
              "      fill: #1967D2;\n",
              "      height: 32px;\n",
              "      padding: 0 0 0 0;\n",
              "      width: 32px;\n",
              "    }\n",
              "\n",
              "    .colab-df-convert:hover {\n",
              "      background-color: #E2EBFA;\n",
              "      box-shadow: 0px 1px 2px rgba(60, 64, 67, 0.3), 0px 1px 3px 1px rgba(60, 64, 67, 0.15);\n",
              "      fill: #174EA6;\n",
              "    }\n",
              "\n",
              "    [theme=dark] .colab-df-convert {\n",
              "      background-color: #3B4455;\n",
              "      fill: #D2E3FC;\n",
              "    }\n",
              "\n",
              "    [theme=dark] .colab-df-convert:hover {\n",
              "      background-color: #434B5C;\n",
              "      box-shadow: 0px 1px 3px 1px rgba(0, 0, 0, 0.15);\n",
              "      filter: drop-shadow(0px 1px 2px rgba(0, 0, 0, 0.3));\n",
              "      fill: #FFFFFF;\n",
              "    }\n",
              "  </style>\n",
              "\n",
              "      <script>\n",
              "        const buttonEl =\n",
              "          document.querySelector('#df-361bea55-e098-429d-82fa-6f5ecf36c50e button.colab-df-convert');\n",
              "        buttonEl.style.display =\n",
              "          google.colab.kernel.accessAllowed ? 'block' : 'none';\n",
              "\n",
              "        async function convertToInteractive(key) {\n",
              "          const element = document.querySelector('#df-361bea55-e098-429d-82fa-6f5ecf36c50e');\n",
              "          const dataTable =\n",
              "            await google.colab.kernel.invokeFunction('convertToInteractive',\n",
              "                                                     [key], {});\n",
              "          if (!dataTable) return;\n",
              "\n",
              "          const docLinkHtml = 'Like what you see? Visit the ' +\n",
              "            '<a target=\"_blank\" href=https://colab.research.google.com/notebooks/data_table.ipynb>data table notebook</a>'\n",
              "            + ' to learn more about interactive tables.';\n",
              "          element.innerHTML = '';\n",
              "          dataTable['output_type'] = 'display_data';\n",
              "          await google.colab.output.renderOutput(dataTable, element);\n",
              "          const docLink = document.createElement('div');\n",
              "          docLink.innerHTML = docLinkHtml;\n",
              "          element.appendChild(docLink);\n",
              "        }\n",
              "      </script>\n",
              "    </div>\n",
              "  </div>\n",
              "  "
            ]
          },
          "metadata": {},
          "execution_count": 143
        }
      ]
    },
    {
      "cell_type": "code",
      "source": [
        "df.describe()"
      ],
      "metadata": {
        "colab": {
          "base_uri": "https://localhost:8080/",
          "height": 300
        },
        "id": "oLKefa5RP-V_",
        "outputId": "e2facac1-acb2-4dac-cf45-a445c99b3d41"
      },
      "execution_count": 144,
      "outputs": [
        {
          "output_type": "execute_result",
          "data": {
            "text/plain": [
              "              AGE          Q3          Q4          Q6\n",
              "count  600.000000  600.000000  600.000000  600.000000\n",
              "mean    42.405000   32.466667   27.690000    3.063333\n",
              "std      8.769406   18.496913   19.312747    0.838945\n",
              "min     21.000000    1.000000    0.000000    1.000000\n",
              "25%     36.000000   20.000000   14.750000    3.000000\n",
              "50%     41.000000   30.000000   20.000000    3.000000\n",
              "75%     50.000000   40.000000   40.000000    4.000000\n",
              "max     66.000000  100.000000  100.000000    4.000000"
            ],
            "text/html": [
              "\n",
              "  <div id=\"df-1d8d2c6c-e4e8-4e18-9ce6-9463e927c54c\">\n",
              "    <div class=\"colab-df-container\">\n",
              "      <div>\n",
              "<style scoped>\n",
              "    .dataframe tbody tr th:only-of-type {\n",
              "        vertical-align: middle;\n",
              "    }\n",
              "\n",
              "    .dataframe tbody tr th {\n",
              "        vertical-align: top;\n",
              "    }\n",
              "\n",
              "    .dataframe thead th {\n",
              "        text-align: right;\n",
              "    }\n",
              "</style>\n",
              "<table border=\"1\" class=\"dataframe\">\n",
              "  <thead>\n",
              "    <tr style=\"text-align: right;\">\n",
              "      <th></th>\n",
              "      <th>AGE</th>\n",
              "      <th>Q3</th>\n",
              "      <th>Q4</th>\n",
              "      <th>Q6</th>\n",
              "    </tr>\n",
              "  </thead>\n",
              "  <tbody>\n",
              "    <tr>\n",
              "      <th>count</th>\n",
              "      <td>600.000000</td>\n",
              "      <td>600.000000</td>\n",
              "      <td>600.000000</td>\n",
              "      <td>600.000000</td>\n",
              "    </tr>\n",
              "    <tr>\n",
              "      <th>mean</th>\n",
              "      <td>42.405000</td>\n",
              "      <td>32.466667</td>\n",
              "      <td>27.690000</td>\n",
              "      <td>3.063333</td>\n",
              "    </tr>\n",
              "    <tr>\n",
              "      <th>std</th>\n",
              "      <td>8.769406</td>\n",
              "      <td>18.496913</td>\n",
              "      <td>19.312747</td>\n",
              "      <td>0.838945</td>\n",
              "    </tr>\n",
              "    <tr>\n",
              "      <th>min</th>\n",
              "      <td>21.000000</td>\n",
              "      <td>1.000000</td>\n",
              "      <td>0.000000</td>\n",
              "      <td>1.000000</td>\n",
              "    </tr>\n",
              "    <tr>\n",
              "      <th>25%</th>\n",
              "      <td>36.000000</td>\n",
              "      <td>20.000000</td>\n",
              "      <td>14.750000</td>\n",
              "      <td>3.000000</td>\n",
              "    </tr>\n",
              "    <tr>\n",
              "      <th>50%</th>\n",
              "      <td>41.000000</td>\n",
              "      <td>30.000000</td>\n",
              "      <td>20.000000</td>\n",
              "      <td>3.000000</td>\n",
              "    </tr>\n",
              "    <tr>\n",
              "      <th>75%</th>\n",
              "      <td>50.000000</td>\n",
              "      <td>40.000000</td>\n",
              "      <td>40.000000</td>\n",
              "      <td>4.000000</td>\n",
              "    </tr>\n",
              "    <tr>\n",
              "      <th>max</th>\n",
              "      <td>66.000000</td>\n",
              "      <td>100.000000</td>\n",
              "      <td>100.000000</td>\n",
              "      <td>4.000000</td>\n",
              "    </tr>\n",
              "  </tbody>\n",
              "</table>\n",
              "</div>\n",
              "      <button class=\"colab-df-convert\" onclick=\"convertToInteractive('df-1d8d2c6c-e4e8-4e18-9ce6-9463e927c54c')\"\n",
              "              title=\"Convert this dataframe to an interactive table.\"\n",
              "              style=\"display:none;\">\n",
              "        \n",
              "  <svg xmlns=\"http://www.w3.org/2000/svg\" height=\"24px\"viewBox=\"0 0 24 24\"\n",
              "       width=\"24px\">\n",
              "    <path d=\"M0 0h24v24H0V0z\" fill=\"none\"/>\n",
              "    <path d=\"M18.56 5.44l.94 2.06.94-2.06 2.06-.94-2.06-.94-.94-2.06-.94 2.06-2.06.94zm-11 1L8.5 8.5l.94-2.06 2.06-.94-2.06-.94L8.5 2.5l-.94 2.06-2.06.94zm10 10l.94 2.06.94-2.06 2.06-.94-2.06-.94-.94-2.06-.94 2.06-2.06.94z\"/><path d=\"M17.41 7.96l-1.37-1.37c-.4-.4-.92-.59-1.43-.59-.52 0-1.04.2-1.43.59L10.3 9.45l-7.72 7.72c-.78.78-.78 2.05 0 2.83L4 21.41c.39.39.9.59 1.41.59.51 0 1.02-.2 1.41-.59l7.78-7.78 2.81-2.81c.8-.78.8-2.07 0-2.86zM5.41 20L4 18.59l7.72-7.72 1.47 1.35L5.41 20z\"/>\n",
              "  </svg>\n",
              "      </button>\n",
              "      \n",
              "  <style>\n",
              "    .colab-df-container {\n",
              "      display:flex;\n",
              "      flex-wrap:wrap;\n",
              "      gap: 12px;\n",
              "    }\n",
              "\n",
              "    .colab-df-convert {\n",
              "      background-color: #E8F0FE;\n",
              "      border: none;\n",
              "      border-radius: 50%;\n",
              "      cursor: pointer;\n",
              "      display: none;\n",
              "      fill: #1967D2;\n",
              "      height: 32px;\n",
              "      padding: 0 0 0 0;\n",
              "      width: 32px;\n",
              "    }\n",
              "\n",
              "    .colab-df-convert:hover {\n",
              "      background-color: #E2EBFA;\n",
              "      box-shadow: 0px 1px 2px rgba(60, 64, 67, 0.3), 0px 1px 3px 1px rgba(60, 64, 67, 0.15);\n",
              "      fill: #174EA6;\n",
              "    }\n",
              "\n",
              "    [theme=dark] .colab-df-convert {\n",
              "      background-color: #3B4455;\n",
              "      fill: #D2E3FC;\n",
              "    }\n",
              "\n",
              "    [theme=dark] .colab-df-convert:hover {\n",
              "      background-color: #434B5C;\n",
              "      box-shadow: 0px 1px 3px 1px rgba(0, 0, 0, 0.15);\n",
              "      filter: drop-shadow(0px 1px 2px rgba(0, 0, 0, 0.3));\n",
              "      fill: #FFFFFF;\n",
              "    }\n",
              "  </style>\n",
              "\n",
              "      <script>\n",
              "        const buttonEl =\n",
              "          document.querySelector('#df-1d8d2c6c-e4e8-4e18-9ce6-9463e927c54c button.colab-df-convert');\n",
              "        buttonEl.style.display =\n",
              "          google.colab.kernel.accessAllowed ? 'block' : 'none';\n",
              "\n",
              "        async function convertToInteractive(key) {\n",
              "          const element = document.querySelector('#df-1d8d2c6c-e4e8-4e18-9ce6-9463e927c54c');\n",
              "          const dataTable =\n",
              "            await google.colab.kernel.invokeFunction('convertToInteractive',\n",
              "                                                     [key], {});\n",
              "          if (!dataTable) return;\n",
              "\n",
              "          const docLinkHtml = 'Like what you see? Visit the ' +\n",
              "            '<a target=\"_blank\" href=https://colab.research.google.com/notebooks/data_table.ipynb>data table notebook</a>'\n",
              "            + ' to learn more about interactive tables.';\n",
              "          element.innerHTML = '';\n",
              "          dataTable['output_type'] = 'display_data';\n",
              "          await google.colab.output.renderOutput(dataTable, element);\n",
              "          const docLink = document.createElement('div');\n",
              "          docLink.innerHTML = docLinkHtml;\n",
              "          element.appendChild(docLink);\n",
              "        }\n",
              "      </script>\n",
              "    </div>\n",
              "  </div>\n",
              "  "
            ]
          },
          "metadata": {},
          "execution_count": 144
        }
      ]
    },
    {
      "cell_type": "markdown",
      "source": [
        "The range is between 5 to 273000"
      ],
      "metadata": {
        "id": "M-zHF9AHAg1Q"
      }
    },
    {
      "cell_type": "markdown",
      "source": [
        "Suggested range\n",
        "\n",
        "| Employees No. | Range Label | \n",
        "| :-- | :--- |\n",
        "| 0 - 10 | Very small company |\n",
        "| 11 - 49 | Small company |\n",
        "| 50 - 299 | Mid-size company |\n",
        "| 300 - 4999 | Big Company |\n",
        "| 5000 - 9999 | Very big company |\n",
        "| 10000 or more | International company |\n"
      ],
      "metadata": {
        "id": "AlP2rkORAuen"
      }
    }
  ]
}